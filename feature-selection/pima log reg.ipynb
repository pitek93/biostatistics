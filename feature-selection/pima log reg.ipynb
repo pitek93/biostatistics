{
 "cells": [
  {
   "cell_type": "code",
   "execution_count": 1,
   "id": "afd562a8",
   "metadata": {},
   "outputs": [],
   "source": [
    "a=file.choose()\n",
    "b=read.table(a,header=F)"
   ]
  },
  {
   "cell_type": "code",
   "execution_count": 2,
   "id": "98e3e644",
   "metadata": {},
   "outputs": [],
   "source": [
    "x=b[,1:8]\n",
    "y=b[,9]"
   ]
  },
  {
   "cell_type": "code",
   "execution_count": 4,
   "id": "a311b76f",
   "metadata": {},
   "outputs": [],
   "source": [
    "z=glm(y~.,data = as.data.frame(x),family=binomial(logit))"
   ]
  },
  {
   "cell_type": "code",
   "execution_count": 5,
   "id": "cacc76a0",
   "metadata": {},
   "outputs": [
    {
     "data": {
      "text/plain": [
       "\n",
       "Call:\n",
       "glm(formula = y ~ ., family = binomial(logit), data = as.data.frame(x))\n",
       "\n",
       "Deviance Residuals: \n",
       "    Min       1Q   Median       3Q      Max  \n",
       "-2.5566  -0.7274  -0.4159   0.7267   2.9297  \n",
       "\n",
       "Coefficients:\n",
       "              Estimate Std. Error z value Pr(>|z|)    \n",
       "(Intercept) -8.4046964  0.7166359 -11.728  < 2e-16 ***\n",
       "V1           0.1231823  0.0320776   3.840 0.000123 ***\n",
       "V2           0.0351637  0.0037087   9.481  < 2e-16 ***\n",
       "V3          -0.0132955  0.0052336  -2.540 0.011072 *  \n",
       "V4           0.0006190  0.0068994   0.090 0.928515    \n",
       "V5          -0.0011917  0.0009012  -1.322 0.186065    \n",
       "V6           0.0897010  0.0150876   5.945 2.76e-09 ***\n",
       "V7           0.9451797  0.2991475   3.160 0.001580 ** \n",
       "V8           0.0148690  0.0093348   1.593 0.111192    \n",
       "---\n",
       "Signif. codes:  0 '***' 0.001 '**' 0.01 '*' 0.05 '.' 0.1 ' ' 1\n",
       "\n",
       "(Dispersion parameter for binomial family taken to be 1)\n",
       "\n",
       "    Null deviance: 993.48  on 767  degrees of freedom\n",
       "Residual deviance: 723.45  on 759  degrees of freedom\n",
       "AIC: 741.45\n",
       "\n",
       "Number of Fisher Scoring iterations: 5\n"
      ]
     },
     "metadata": {},
     "output_type": "display_data"
    }
   ],
   "source": [
    "summary(z)"
   ]
  },
  {
   "cell_type": "code",
   "execution_count": 6,
   "id": "311c38b7",
   "metadata": {},
   "outputs": [
    {
     "data": {
      "text/html": [
       "0.271809668590319"
      ],
      "text/latex": [
       "0.271809668590319"
      ],
      "text/markdown": [
       "0.271809668590319"
      ],
      "text/plain": [
       "[1] 0.2718097"
      ]
     },
     "metadata": {},
     "output_type": "display_data"
    }
   ],
   "source": [
    "#determination coefficient\n",
    "1-z$deviance/z$null.deviance"
   ]
  },
  {
   "cell_type": "code",
   "execution_count": null,
   "id": "fab7f043",
   "metadata": {},
   "outputs": [],
   "source": [
    "# score is a bit low for logistic regression, continuing anyway..."
   ]
  },
  {
   "cell_type": "code",
   "execution_count": 7,
   "id": "e59050a3",
   "metadata": {},
   "outputs": [
    {
     "name": "stdout",
     "output_type": "stream",
     "text": [
      "Start:  AIC=741.45\n",
      "y ~ V1 + V2 + V3 + V4 + V5 + V6 + V7 + V8\n",
      "\n",
      "       Df Deviance    AIC\n",
      "- V4    1   723.45 739.45\n",
      "- V5    1   725.19 741.19\n",
      "<none>      723.45 741.45\n",
      "- V8    1   725.97 741.97\n",
      "- V3    1   729.99 745.99\n",
      "- V7    1   733.78 749.78\n",
      "- V1    1   738.68 754.68\n",
      "- V6    1   764.22 780.22\n",
      "- V2    1   838.37 854.37\n",
      "\n",
      "Step:  AIC=739.45\n",
      "y ~ V1 + V2 + V3 + V5 + V6 + V7 + V8\n",
      "\n",
      "       Df Deviance    AIC\n",
      "<none>      723.45 739.45\n",
      "- V5    1   725.46 739.46\n",
      "- V8    1   725.97 739.97\n",
      "- V3    1   730.13 744.13\n",
      "- V7    1   733.92 747.92\n",
      "- V1    1   738.69 752.69\n",
      "- V6    1   768.77 782.77\n",
      "- V2    1   840.87 854.87\n"
     ]
    },
    {
     "data": {
      "text/plain": [
       "\n",
       "Call:  glm(formula = y ~ V1 + V2 + V3 + V5 + V6 + V7 + V8, family = binomial(logit), \n",
       "    data = as.data.frame(x))\n",
       "\n",
       "Coefficients:\n",
       "(Intercept)           V1           V2           V3           V5           V6  \n",
       "  -8.405136     0.123172     0.035112    -0.013214    -0.001157     0.090089  \n",
       "         V7           V8  \n",
       "   0.947595     0.014789  \n",
       "\n",
       "Degrees of Freedom: 767 Total (i.e. Null);  760 Residual\n",
       "Null Deviance:\t    993.5 \n",
       "Residual Deviance: 723.5 \tAIC: 739.5"
      ]
     },
     "metadata": {},
     "output_type": "display_data"
    }
   ],
   "source": [
    "# Akaike criteria - elimination method\n",
    "step(z,direction=\"backward\", k=2)"
   ]
  },
  {
   "cell_type": "code",
   "execution_count": null,
   "id": "56cbe663",
   "metadata": {},
   "outputs": [],
   "source": [
    "# chooses features 1,2,3,5,6,7,8"
   ]
  },
  {
   "cell_type": "code",
   "execution_count": 9,
   "id": "23788340",
   "metadata": {},
   "outputs": [],
   "source": [
    "zA=glm(y~.,data=as.data.frame(x[,c(1,2,3,5,6,7,8)]),family=binomial(logit))"
   ]
  },
  {
   "cell_type": "code",
   "execution_count": 10,
   "id": "e07bd0b8",
   "metadata": {},
   "outputs": [
    {
     "data": {
      "text/plain": [
       "\n",
       "Call:\n",
       "glm(formula = y ~ ., family = binomial(logit), data = as.data.frame(x[, \n",
       "    c(1, 2, 3, 5, 6, 7, 8)]))\n",
       "\n",
       "Deviance Residuals: \n",
       "    Min       1Q   Median       3Q      Max  \n",
       "-2.5617  -0.7286  -0.4156   0.7271   2.9297  \n",
       "\n",
       "Coefficients:\n",
       "              Estimate Std. Error z value Pr(>|z|)    \n",
       "(Intercept) -8.4051362  0.7167033 -11.727  < 2e-16 ***\n",
       "V1           0.1231724  0.0320688   3.841 0.000123 ***\n",
       "V2           0.0351123  0.0036625   9.587  < 2e-16 ***\n",
       "V3          -0.0132136  0.0051537  -2.564 0.010350 *  \n",
       "V5          -0.0011570  0.0008142  -1.421 0.155275    \n",
       "V6           0.0900886  0.0144619   6.229 4.68e-10 ***\n",
       "V7           0.9475954  0.2980063   3.180 0.001474 ** \n",
       "V8           0.0147888  0.0092897   1.592 0.111393    \n",
       "---\n",
       "Signif. codes:  0 '***' 0.001 '**' 0.01 '*' 0.05 '.' 0.1 ' ' 1\n",
       "\n",
       "(Dispersion parameter for binomial family taken to be 1)\n",
       "\n",
       "    Null deviance: 993.48  on 767  degrees of freedom\n",
       "Residual deviance: 723.45  on 760  degrees of freedom\n",
       "AIC: 739.45\n",
       "\n",
       "Number of Fisher Scoring iterations: 5\n"
      ]
     },
     "metadata": {},
     "output_type": "display_data"
    }
   ],
   "source": [
    "summary(zA)"
   ]
  },
  {
   "cell_type": "code",
   "execution_count": 11,
   "id": "9c9ce8a2",
   "metadata": {},
   "outputs": [
    {
     "data": {
      "text/html": [
       "0.27180156397842"
      ],
      "text/latex": [
       "0.27180156397842"
      ],
      "text/markdown": [
       "0.27180156397842"
      ],
      "text/plain": [
       "[1] 0.2718016"
      ]
     },
     "metadata": {},
     "output_type": "display_data"
    }
   ],
   "source": [
    "# quality of the model\n",
    "1-zA$deviance/zA$null.deviance"
   ]
  },
  {
   "cell_type": "code",
   "execution_count": 12,
   "id": "289e36ec",
   "metadata": {},
   "outputs": [],
   "source": [
    "# almost the same,\n",
    "# looks like we can remove additional features (summary p values eg v5 and v8)"
   ]
  },
  {
   "cell_type": "code",
   "execution_count": 13,
   "id": "781924fa",
   "metadata": {},
   "outputs": [
    {
     "name": "stdout",
     "output_type": "stream",
     "text": [
      "Start:  AIC=783.24\n",
      "y ~ V1 + V2 + V3 + V4 + V5 + V6 + V7 + V8\n",
      "\n",
      "       Df Deviance    AIC\n",
      "- V4    1   723.45 776.60\n",
      "- V5    1   725.19 778.34\n",
      "- V8    1   725.97 779.12\n",
      "- V3    1   729.99 783.14\n",
      "<none>      723.45 783.24\n",
      "- V7    1   733.78 786.94\n",
      "- V1    1   738.68 791.83\n",
      "- V6    1   764.22 817.38\n",
      "- V2    1   838.37 891.52\n",
      "\n",
      "Step:  AIC=776.6\n",
      "y ~ V1 + V2 + V3 + V5 + V6 + V7 + V8\n",
      "\n",
      "       Df Deviance    AIC\n",
      "- V5    1   725.46 771.97\n",
      "- V8    1   725.97 772.48\n",
      "<none>      723.45 776.60\n",
      "- V3    1   730.13 776.64\n",
      "- V7    1   733.92 780.42\n",
      "- V1    1   738.69 785.20\n",
      "- V6    1   768.77 815.27\n",
      "- V2    1   840.87 887.38\n",
      "\n",
      "Step:  AIC=771.97\n",
      "y ~ V1 + V2 + V3 + V6 + V7 + V8\n",
      "\n",
      "       Df Deviance    AIC\n",
      "- V8    1   728.56 768.42\n",
      "<none>      725.46 771.97\n",
      "- V3    1   732.51 772.37\n",
      "- V7    1   734.99 774.85\n",
      "- V1    1   741.27 781.13\n",
      "- V6    1   769.24 809.10\n",
      "- V2    1   845.76 885.62\n",
      "\n",
      "Step:  AIC=768.42\n",
      "y ~ V1 + V2 + V3 + V6 + V7\n",
      "\n",
      "       Df Deviance    AIC\n",
      "- V3    1   734.31 767.52\n",
      "<none>      728.56 768.42\n",
      "- V7    1   738.43 771.65\n",
      "- V1    1   760.56 793.78\n",
      "- V6    1   770.21 803.43\n",
      "- V2    1   862.96 896.18\n",
      "\n",
      "Step:  AIC=767.52\n",
      "y ~ V1 + V2 + V6 + V7\n",
      "\n",
      "       Df Deviance    AIC\n",
      "<none>      734.31 767.52\n",
      "- V7    1   744.12 770.70\n",
      "- V1    1   762.87 789.45\n",
      "- V6    1   771.27 797.85\n",
      "- V2    1   864.84 891.41\n"
     ]
    },
    {
     "data": {
      "text/plain": [
       "\n",
       "Call:  glm(formula = y ~ V1 + V2 + V6 + V7, family = binomial(logit), \n",
       "    data = as.data.frame(x))\n",
       "\n",
       "Coefficients:\n",
       "(Intercept)           V1           V2           V6           V7  \n",
       "   -8.41585      0.14193      0.03383      0.07810      0.90129  \n",
       "\n",
       "Degrees of Freedom: 767 Total (i.e. Null);  763 Residual\n",
       "Null Deviance:\t    993.5 \n",
       "Residual Deviance: 734.3 \tAIC: 744.3"
      ]
     },
     "metadata": {},
     "output_type": "display_data"
    }
   ],
   "source": [
    "# Shwartz criteria (Bayes) - elimination method\n",
    "step(z,direction=\"backward\", k=log(768))"
   ]
  },
  {
   "cell_type": "code",
   "execution_count": null,
   "id": "c966fe3d",
   "metadata": {},
   "outputs": [],
   "source": [
    "# chooses features 1, 2, 6, 7"
   ]
  },
  {
   "cell_type": "code",
   "execution_count": 14,
   "id": "e30efab9",
   "metadata": {},
   "outputs": [],
   "source": [
    "zS=glm(y~.,data=as.data.frame(x[,c(1,2,6,7)]),family=binomial(logit))"
   ]
  },
  {
   "cell_type": "code",
   "execution_count": 15,
   "id": "b52dc236",
   "metadata": {},
   "outputs": [
    {
     "data": {
      "text/html": [
       "0.260877929775773"
      ],
      "text/latex": [
       "0.260877929775773"
      ],
      "text/markdown": [
       "0.260877929775773"
      ],
      "text/plain": [
       "[1] 0.2608779"
      ]
     },
     "metadata": {},
     "output_type": "display_data"
    }
   ],
   "source": [
    "#quality of a new model\n",
    "1-zS$deviance/zS$null.deviance"
   ]
  },
  {
   "cell_type": "code",
   "execution_count": 16,
   "id": "46e2e939",
   "metadata": {},
   "outputs": [],
   "source": [
    "# not a big difference in comparison with 'full model'"
   ]
  },
  {
   "cell_type": "code",
   "execution_count": 17,
   "id": "a2f8f264",
   "metadata": {},
   "outputs": [],
   "source": [
    "# Akaike Criteria - forward method\n",
    "# initially clean model\n",
    "z0=glm(y ~ 1, data=as.data.frame(x),family=binomial(logit))"
   ]
  },
  {
   "cell_type": "code",
   "execution_count": 18,
   "id": "a9a9bae7",
   "metadata": {},
   "outputs": [
    {
     "name": "stdout",
     "output_type": "stream",
     "text": [
      "Start:  AIC=995.48\n",
      "y ~ 1\n",
      "\n",
      "       Df Deviance    AIC\n",
      "+ V2    1   808.72 812.72\n",
      "+ V6    1   920.71 924.71\n",
      "+ V8    1   950.72 954.72\n",
      "+ V1    1   956.21 960.21\n",
      "+ V7    1   970.86 974.86\n",
      "+ V5    1   980.81 984.81\n",
      "+ V4    1   989.19 993.19\n",
      "+ V3    1   990.13 994.13\n",
      "<none>      993.48 995.48\n",
      "\n",
      "Step:  AIC=812.72\n",
      "y ~ V2\n",
      "\n",
      "       Df Deviance    AIC\n",
      "+ V6    1   771.40 777.40\n",
      "+ V1    1   784.95 790.95\n",
      "+ V7    1   796.99 802.99\n",
      "+ V8    1   797.36 803.36\n",
      "<none>      808.72 812.72\n",
      "+ V4    1   807.07 813.07\n",
      "+ V5    1   807.77 813.77\n",
      "+ V3    1   808.59 814.59\n",
      "\n",
      "Step:  AIC=777.4\n",
      "y ~ V2 + V6\n",
      "\n",
      "       Df Deviance    AIC\n",
      "+ V1    1   744.12 752.12\n",
      "+ V8    1   755.68 763.68\n",
      "+ V7    1   762.87 770.87\n",
      "+ V5    1   767.79 775.79\n",
      "+ V3    1   769.07 777.07\n",
      "<none>      771.40 777.40\n",
      "+ V4    1   770.20 778.20\n",
      "\n",
      "Step:  AIC=752.12\n",
      "y ~ V2 + V6 + V1\n",
      "\n",
      "       Df Deviance    AIC\n",
      "+ V7    1   734.31 744.31\n",
      "+ V3    1   738.43 748.43\n",
      "+ V8    1   742.10 752.10\n",
      "<none>      744.12 752.12\n",
      "+ V5    1   742.43 752.43\n",
      "+ V4    1   743.60 753.60\n",
      "\n",
      "Step:  AIC=744.31\n",
      "y ~ V2 + V6 + V1 + V7\n",
      "\n",
      "       Df Deviance    AIC\n",
      "+ V3    1   728.56 740.56\n",
      "+ V5    1   731.51 743.51\n",
      "<none>      734.31 744.31\n",
      "+ V8    1   732.51 744.51\n",
      "+ V4    1   733.06 745.06\n",
      "\n",
      "Step:  AIC=740.56\n",
      "y ~ V2 + V6 + V1 + V7 + V3\n",
      "\n",
      "       Df Deviance    AIC\n",
      "+ V8    1   725.46 739.46\n",
      "+ V5    1   725.97 739.97\n",
      "<none>      728.56 740.56\n",
      "+ V4    1   728.00 742.00\n",
      "\n",
      "Step:  AIC=739.46\n",
      "y ~ V2 + V6 + V1 + V7 + V3 + V8\n",
      "\n",
      "       Df Deviance    AIC\n",
      "+ V5    1   723.45 739.45\n",
      "<none>      725.46 739.46\n",
      "+ V4    1   725.19 741.19\n",
      "\n",
      "Step:  AIC=739.45\n",
      "y ~ V2 + V6 + V1 + V7 + V3 + V8 + V5\n",
      "\n",
      "       Df Deviance    AIC\n",
      "<none>      723.45 739.45\n",
      "+ V4    1   723.45 741.45\n"
     ]
    },
    {
     "data": {
      "text/plain": [
       "\n",
       "Call:  glm(formula = y ~ V2 + V6 + V1 + V7 + V3 + V8 + V5, family = binomial(logit), \n",
       "    data = as.data.frame(x))\n",
       "\n",
       "Coefficients:\n",
       "(Intercept)           V2           V6           V1           V7           V3  \n",
       "  -8.405136     0.035112     0.090089     0.123172     0.947595    -0.013214  \n",
       "         V8           V5  \n",
       "   0.014789    -0.001157  \n",
       "\n",
       "Degrees of Freedom: 767 Total (i.e. Null);  760 Residual\n",
       "Null Deviance:\t    993.5 \n",
       "Residual Deviance: 723.5 \tAIC: 739.5"
      ]
     },
     "metadata": {},
     "output_type": "display_data"
    }
   ],
   "source": [
    "step(z0, k=2, direction=\"forward\", scope=formula(z))"
   ]
  },
  {
   "cell_type": "code",
   "execution_count": null,
   "id": "4dc06e43",
   "metadata": {},
   "outputs": [],
   "source": [
    "# the same results as with elimination (backward method)"
   ]
  },
  {
   "cell_type": "code",
   "execution_count": 19,
   "id": "f4d53f45",
   "metadata": {},
   "outputs": [
    {
     "name": "stdout",
     "output_type": "stream",
     "text": [
      "Start:  AIC=1000.13\n",
      "y ~ 1\n",
      "\n",
      "       Df Deviance     AIC\n",
      "+ V2    1   808.72  822.01\n",
      "+ V6    1   920.71  934.00\n",
      "+ V8    1   950.72  964.01\n",
      "+ V1    1   956.21  969.50\n",
      "+ V7    1   970.86  984.15\n",
      "+ V5    1   980.81  994.10\n",
      "<none>      993.48 1000.13\n",
      "+ V4    1   989.19 1002.48\n",
      "+ V3    1   990.13 1003.42\n",
      "\n",
      "Step:  AIC=822.01\n",
      "y ~ V2\n",
      "\n",
      "       Df Deviance    AIC\n",
      "+ V6    1   771.40 791.33\n",
      "+ V1    1   784.95 804.88\n",
      "+ V7    1   796.99 816.92\n",
      "+ V8    1   797.36 817.29\n",
      "<none>      808.72 822.01\n",
      "+ V4    1   807.07 827.00\n",
      "+ V5    1   807.77 827.70\n",
      "+ V3    1   808.59 828.53\n",
      "\n",
      "Step:  AIC=791.33\n",
      "y ~ V2 + V6\n",
      "\n",
      "       Df Deviance    AIC\n",
      "+ V1    1   744.12 770.70\n",
      "+ V8    1   755.68 782.26\n",
      "+ V7    1   762.87 789.45\n",
      "<none>      771.40 791.33\n",
      "+ V5    1   767.79 794.36\n",
      "+ V3    1   769.07 795.64\n",
      "+ V4    1   770.20 796.78\n",
      "\n",
      "Step:  AIC=770.7\n",
      "y ~ V2 + V6 + V1\n",
      "\n",
      "       Df Deviance    AIC\n",
      "+ V7    1   734.31 767.52\n",
      "<none>      744.12 770.70\n",
      "+ V3    1   738.43 771.65\n",
      "+ V8    1   742.10 775.32\n",
      "+ V5    1   742.43 775.65\n",
      "+ V4    1   743.60 776.82\n",
      "\n",
      "Step:  AIC=767.52\n",
      "y ~ V2 + V6 + V1 + V7\n",
      "\n",
      "       Df Deviance    AIC\n",
      "<none>      734.31 767.52\n",
      "+ V3    1   728.56 768.42\n",
      "+ V5    1   731.51 771.37\n",
      "+ V8    1   732.51 772.37\n",
      "+ V4    1   733.06 772.92\n"
     ]
    },
    {
     "data": {
      "text/plain": [
       "\n",
       "Call:  glm(formula = y ~ V2 + V6 + V1 + V7, family = binomial(logit), \n",
       "    data = as.data.frame(x))\n",
       "\n",
       "Coefficients:\n",
       "(Intercept)           V2           V6           V1           V7  \n",
       "   -8.41585      0.03383      0.07810      0.14193      0.90129  \n",
       "\n",
       "Degrees of Freedom: 767 Total (i.e. Null);  763 Residual\n",
       "Null Deviance:\t    993.5 \n",
       "Residual Deviance: 734.3 \tAIC: 744.3"
      ]
     },
     "metadata": {},
     "output_type": "display_data"
    }
   ],
   "source": [
    "# Bayes Criteria - forward method\n",
    "step(z0, k=log(768), direction=\"forward\", scope=formula(z))"
   ]
  },
  {
   "cell_type": "code",
   "execution_count": 20,
   "id": "746ecdcf",
   "metadata": {},
   "outputs": [],
   "source": [
    "# results as with elimination method (Bayes)"
   ]
  },
  {
   "cell_type": "code",
   "execution_count": 21,
   "id": "33f6eab9",
   "metadata": {},
   "outputs": [
    {
     "name": "stdout",
     "output_type": "stream",
     "text": [
      "Start:  AIC=741.45\n",
      "y ~ V1 + V2 + V3 + V4 + V5 + V6 + V7 + V8\n",
      "\n",
      "       Df Deviance    AIC\n",
      "- V4    1   723.45 739.45\n",
      "- V5    1   725.19 741.19\n",
      "<none>      723.45 741.45\n",
      "- V8    1   725.97 741.97\n",
      "- V3    1   729.99 745.99\n",
      "- V7    1   733.78 749.78\n",
      "- V1    1   738.68 754.68\n",
      "- V6    1   764.22 780.22\n",
      "- V2    1   838.37 854.37\n",
      "\n",
      "Step:  AIC=739.45\n",
      "y ~ V1 + V2 + V3 + V5 + V6 + V7 + V8\n",
      "\n",
      "       Df Deviance    AIC\n",
      "<none>      723.45 739.45\n",
      "- V5    1   725.46 739.46\n",
      "- V8    1   725.97 739.97\n",
      "+ V4    1   723.45 741.45\n",
      "- V3    1   730.13 744.13\n",
      "- V7    1   733.92 747.92\n",
      "- V1    1   738.69 752.69\n",
      "- V6    1   768.77 782.77\n",
      "- V2    1   840.87 854.87\n"
     ]
    },
    {
     "data": {
      "text/plain": [
       "\n",
       "Call:  glm(formula = y ~ V1 + V2 + V3 + V5 + V6 + V7 + V8, family = binomial(logit), \n",
       "    data = as.data.frame(x))\n",
       "\n",
       "Coefficients:\n",
       "(Intercept)           V1           V2           V3           V5           V6  \n",
       "  -8.405136     0.123172     0.035112    -0.013214    -0.001157     0.090089  \n",
       "         V7           V8  \n",
       "   0.947595     0.014789  \n",
       "\n",
       "Degrees of Freedom: 767 Total (i.e. Null);  760 Residual\n",
       "Null Deviance:\t    993.5 \n",
       "Residual Deviance: 723.5 \tAIC: 739.5"
      ]
     },
     "metadata": {},
     "output_type": "display_data"
    }
   ],
   "source": [
    "# Akaike Criteria - forward method\n",
    "z = glm(y ~., data=as.data.frame(x),family=binomial(logit))\n",
    "\n",
    "step(z, k=2, direction=\"both\")"
   ]
  },
  {
   "cell_type": "code",
   "execution_count": 22,
   "id": "fc1141a0",
   "metadata": {},
   "outputs": [
    {
     "name": "stdout",
     "output_type": "stream",
     "text": [
      "Start:  AIC=783.24\n",
      "y ~ V1 + V2 + V3 + V4 + V5 + V6 + V7 + V8\n",
      "\n",
      "       Df Deviance    AIC\n",
      "- V4    1   723.45 776.60\n",
      "- V5    1   725.19 778.34\n",
      "- V8    1   725.97 779.12\n",
      "- V3    1   729.99 783.14\n",
      "<none>      723.45 783.24\n",
      "- V7    1   733.78 786.94\n",
      "- V1    1   738.68 791.83\n",
      "- V6    1   764.22 817.38\n",
      "- V2    1   838.37 891.52\n",
      "\n",
      "Step:  AIC=776.6\n",
      "y ~ V1 + V2 + V3 + V5 + V6 + V7 + V8\n",
      "\n",
      "       Df Deviance    AIC\n",
      "- V5    1   725.46 771.97\n",
      "- V8    1   725.97 772.48\n",
      "<none>      723.45 776.60\n",
      "- V3    1   730.13 776.64\n",
      "- V7    1   733.92 780.42\n",
      "+ V4    1   723.45 783.24\n",
      "- V1    1   738.69 785.20\n",
      "- V6    1   768.77 815.27\n",
      "- V2    1   840.87 887.38\n",
      "\n",
      "Step:  AIC=771.97\n",
      "y ~ V1 + V2 + V3 + V6 + V7 + V8\n",
      "\n",
      "       Df Deviance    AIC\n",
      "- V8    1   728.56 768.42\n",
      "<none>      725.46 771.97\n",
      "- V3    1   732.51 772.37\n",
      "- V7    1   734.99 774.85\n",
      "+ V5    1   723.45 776.60\n",
      "+ V4    1   725.19 778.34\n",
      "- V1    1   741.27 781.13\n",
      "- V6    1   769.24 809.10\n",
      "- V2    1   845.76 885.62\n",
      "\n",
      "Step:  AIC=768.42\n",
      "y ~ V1 + V2 + V3 + V6 + V7\n",
      "\n",
      "       Df Deviance    AIC\n",
      "- V3    1   734.31 767.52\n",
      "<none>      728.56 768.42\n",
      "- V7    1   738.43 771.65\n",
      "+ V8    1   725.46 771.97\n",
      "+ V5    1   725.97 772.48\n",
      "+ V4    1   728.00 774.51\n",
      "- V1    1   760.56 793.78\n",
      "- V6    1   770.21 803.43\n",
      "- V2    1   862.96 896.18\n",
      "\n",
      "Step:  AIC=767.52\n",
      "y ~ V1 + V2 + V6 + V7\n",
      "\n",
      "       Df Deviance    AIC\n",
      "<none>      734.31 767.52\n",
      "+ V3    1   728.56 768.42\n",
      "- V7    1   744.12 770.70\n",
      "+ V5    1   731.51 771.37\n",
      "+ V8    1   732.51 772.37\n",
      "+ V4    1   733.06 772.92\n",
      "- V1    1   762.87 789.45\n",
      "- V6    1   771.27 797.85\n",
      "- V2    1   864.84 891.41\n"
     ]
    },
    {
     "data": {
      "text/plain": [
       "\n",
       "Call:  glm(formula = y ~ V1 + V2 + V6 + V7, family = binomial(logit), \n",
       "    data = as.data.frame(x))\n",
       "\n",
       "Coefficients:\n",
       "(Intercept)           V1           V2           V6           V7  \n",
       "   -8.41585      0.14193      0.03383      0.07810      0.90129  \n",
       "\n",
       "Degrees of Freedom: 767 Total (i.e. Null);  763 Residual\n",
       "Null Deviance:\t    993.5 \n",
       "Residual Deviance: 734.3 \tAIC: 744.3"
      ]
     },
     "metadata": {},
     "output_type": "display_data"
    }
   ],
   "source": [
    "# Bayes Criteria - direction both\n",
    "step(z, k=log(768), direction=\"both\",family=binomial(logit))"
   ]
  },
  {
   "cell_type": "code",
   "execution_count": 23,
   "id": "26b340fe",
   "metadata": {},
   "outputs": [],
   "source": [
    "# same results as previously"
   ]
  }
 ],
 "metadata": {
  "kernelspec": {
   "display_name": "R",
   "language": "R",
   "name": "ir"
  },
  "language_info": {
   "codemirror_mode": "r",
   "file_extension": ".r",
   "mimetype": "text/x-r-source",
   "name": "R",
   "pygments_lexer": "r",
   "version": "3.6.1"
  }
 },
 "nbformat": 4,
 "nbformat_minor": 5
}
