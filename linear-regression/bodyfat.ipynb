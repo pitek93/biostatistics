{
 "cells": [
  {
   "cell_type": "code",
   "execution_count": 1,
   "id": "4ff576a7",
   "metadata": {},
   "outputs": [],
   "source": [
    "a=file.choose() # bodyfat.txt\n",
    "b=read.table(a,header=F)\n",
    "\n",
    "x=b[,3:15]\n",
    "y=b[,2]"
   ]
  },
  {
   "cell_type": "code",
   "execution_count": 2,
   "id": "bd709a99",
   "metadata": {},
   "outputs": [],
   "source": [
    "library(repr)\n",
    "options(repr.plot.width=4, repr.plot.height=3)"
   ]
  },
  {
   "cell_type": "code",
   "execution_count": 3,
   "id": "1d2fa065",
   "metadata": {},
   "outputs": [
    {
     "data": {
      "text/html": [
       "<table>\n",
       "<thead><tr><th scope=col>V3</th><th scope=col>V4</th><th scope=col>V5</th><th scope=col>V6</th><th scope=col>V7</th><th scope=col>V8</th><th scope=col>V9</th><th scope=col>V10</th><th scope=col>V11</th><th scope=col>V12</th><th scope=col>V13</th><th scope=col>V14</th><th scope=col>V15</th></tr></thead>\n",
       "<tbody>\n",
       "\t<tr><td>0.2914584  </td><td>0.612414   </td><td>-0.08949538</td><td>0.4905919  </td><td>0.7026203  </td><td>0.8134323  </td><td>0.6252009  </td><td>0.5596075  </td><td>0.5086652  </td><td>0.2659698  </td><td>0.4932711  </td><td>0.3613869  </td><td>0.3465749  </td></tr>\n",
       "</tbody>\n",
       "</table>\n"
      ],
      "text/latex": [
       "\\begin{tabular}{lllllllllllll}\n",
       " V3 & V4 & V5 & V6 & V7 & V8 & V9 & V10 & V11 & V12 & V13 & V14 & V15\\\\\n",
       "\\hline\n",
       "\t 0.2914584   & 0.612414    & -0.08949538 & 0.4905919   & 0.7026203   & 0.8134323   & 0.6252009   & 0.5596075   & 0.5086652   & 0.2659698   & 0.4932711   & 0.3613869   & 0.3465749  \\\\\n",
       "\\end{tabular}\n"
      ],
      "text/markdown": [
       "\n",
       "| V3 | V4 | V5 | V6 | V7 | V8 | V9 | V10 | V11 | V12 | V13 | V14 | V15 |\n",
       "|---|---|---|---|---|---|---|---|---|---|---|---|---|\n",
       "| 0.2914584   | 0.612414    | -0.08949538 | 0.4905919   | 0.7026203   | 0.8134323   | 0.6252009   | 0.5596075   | 0.5086652   | 0.2659698   | 0.4932711   | 0.3613869   | 0.3465749   |\n",
       "\n"
      ],
      "text/plain": [
       "     V3        V4       V5          V6        V7        V8        V9       \n",
       "[1,] 0.2914584 0.612414 -0.08949538 0.4905919 0.7026203 0.8134323 0.6252009\n",
       "     V10       V11       V12       V13       V14       V15      \n",
       "[1,] 0.5596075 0.5086652 0.2659698 0.4932711 0.3613869 0.3465749"
      ]
     },
     "metadata": {},
     "output_type": "display_data"
    }
   ],
   "source": [
    "cor(y,x)"
   ]
  },
  {
   "cell_type": "code",
   "execution_count": 4,
   "id": "6428c001",
   "metadata": {},
   "outputs": [],
   "source": [
    "# highest correlation with V7 & V8"
   ]
  },
  {
   "cell_type": "code",
   "execution_count": 5,
   "id": "a92f93d3",
   "metadata": {},
   "outputs": [],
   "source": [
    "# lin reg\n",
    "z=lm(y~.,data=as.data.frame(x))"
   ]
  },
  {
   "cell_type": "code",
   "execution_count": 6,
   "id": "8440ed1b",
   "metadata": {},
   "outputs": [
    {
     "data": {
      "text/plain": [
       "\n",
       "Call:\n",
       "lm(formula = y ~ ., data = as.data.frame(x))\n",
       "\n",
       "Residuals:\n",
       "     Min       1Q   Median       3Q      Max \n",
       "-11.1687  -2.8639  -0.1014   3.2085  10.0068 \n",
       "\n",
       "Coefficients:\n",
       "             Estimate Std. Error t value Pr(>|t|)    \n",
       "(Intercept) -18.18849   17.34857  -1.048  0.29551    \n",
       "V3            0.06208    0.03235   1.919  0.05618 .  \n",
       "V4           -0.08844    0.05353  -1.652  0.09978 .  \n",
       "V5           -0.06959    0.09601  -0.725  0.46925    \n",
       "V6           -0.47060    0.23247  -2.024  0.04405 *  \n",
       "V7           -0.02386    0.09915  -0.241  0.81000    \n",
       "V8            0.95477    0.08645  11.044  < 2e-16 ***\n",
       "V9           -0.20754    0.14591  -1.422  0.15622    \n",
       "V10           0.23610    0.14436   1.636  0.10326    \n",
       "V11           0.01528    0.24198   0.063  0.94970    \n",
       "V12           0.17400    0.22147   0.786  0.43285    \n",
       "V13           0.18160    0.17113   1.061  0.28966    \n",
       "V14           0.45202    0.19913   2.270  0.02410 *  \n",
       "V15          -1.62064    0.53495  -3.030  0.00272 ** \n",
       "---\n",
       "Signif. codes:  0 '***' 0.001 '**' 0.01 '*' 0.05 '.' 0.1 ' ' 1\n",
       "\n",
       "Residual standard error: 4.305 on 238 degrees of freedom\n",
       "Multiple R-squared:  0.749,\tAdjusted R-squared:  0.7353 \n",
       "F-statistic: 54.65 on 13 and 238 DF,  p-value: < 2.2e-16\n"
      ]
     },
     "metadata": {},
     "output_type": "display_data"
    }
   ],
   "source": [
    "summary(z)"
   ]
  },
  {
   "cell_type": "code",
   "execution_count": 7,
   "id": "9fc17ead",
   "metadata": {},
   "outputs": [],
   "source": [
    "# R2= 0.75, linear model is well fitted to the data"
   ]
  },
  {
   "cell_type": "code",
   "execution_count": 8,
   "id": "7a63ee91",
   "metadata": {},
   "outputs": [
    {
     "data": {
      "image/png": "[encoded data removed]",
      "text/plain": [
       "Plot with title \"\""
      ]
     },
     "metadata": {},
     "output_type": "display_data"
    },
    {
     "data": {
      "image/png": "[encoded data removed]",
      "text/plain": [
       "Plot with title \"\""
      ]
     },
     "metadata": {},
     "output_type": "display_data"
    },
    {
     "data": {
      "image/png": "[encoded data removed]",
      "text/plain": [
       "Plot with title \"\""
      ]
     },
     "metadata": {},
     "output_type": "display_data"
    },
    {
     "data": {
      "image/png": "[encoded data removed]",
      "text/plain": [
       "Plot with title \"\""
      ]
     },
     "metadata": {},
     "output_type": "display_data"
    }
   ],
   "source": [
    "plot(z)"
   ]
  },
  {
   "cell_type": "code",
   "execution_count": 9,
   "id": "6b4e5f0e",
   "metadata": {},
   "outputs": [],
   "source": [
    "# assumptions checking residuals, notmality test"
   ]
  },
  {
   "cell_type": "code",
   "execution_count": 10,
   "id": "1ea5bd35",
   "metadata": {},
   "outputs": [],
   "source": [
    "# plot 1 - random noise around 0"
   ]
  },
  {
   "cell_type": "code",
   "execution_count": 11,
   "id": "45efecb3",
   "metadata": {},
   "outputs": [
    {
     "data": {
      "text/plain": [
       "\n",
       "\tShapiro-Wilk normality test\n",
       "\n",
       "data:  z$res\n",
       "W = 0.99234, p-value = 0.2176\n"
      ]
     },
     "metadata": {},
     "output_type": "display_data"
    }
   ],
   "source": [
    "# normality test\n",
    "shapiro.test(z$res)"
   ]
  },
  {
   "cell_type": "code",
   "execution_count": 12,
   "id": "0537de13",
   "metadata": {},
   "outputs": [],
   "source": [
    "# assumption of the linear model are met"
   ]
  },
  {
   "cell_type": "code",
   "execution_count": 13,
   "id": "47f0c924",
   "metadata": {},
   "outputs": [
    {
     "data": {
      "text/plain": [
       "\n",
       "Call:\n",
       "lm(formula = y ~ ., data = as.data.frame(x))\n",
       "\n",
       "Residuals:\n",
       "     Min       1Q   Median       3Q      Max \n",
       "-11.1687  -2.8639  -0.1014   3.2085  10.0068 \n",
       "\n",
       "Coefficients:\n",
       "             Estimate Std. Error t value Pr(>|t|)    \n",
       "(Intercept) -18.18849   17.34857  -1.048  0.29551    \n",
       "V3            0.06208    0.03235   1.919  0.05618 .  \n",
       "V4           -0.08844    0.05353  -1.652  0.09978 .  \n",
       "V5           -0.06959    0.09601  -0.725  0.46925    \n",
       "V6           -0.47060    0.23247  -2.024  0.04405 *  \n",
       "V7           -0.02386    0.09915  -0.241  0.81000    \n",
       "V8            0.95477    0.08645  11.044  < 2e-16 ***\n",
       "V9           -0.20754    0.14591  -1.422  0.15622    \n",
       "V10           0.23610    0.14436   1.636  0.10326    \n",
       "V11           0.01528    0.24198   0.063  0.94970    \n",
       "V12           0.17400    0.22147   0.786  0.43285    \n",
       "V13           0.18160    0.17113   1.061  0.28966    \n",
       "V14           0.45202    0.19913   2.270  0.02410 *  \n",
       "V15          -1.62064    0.53495  -3.030  0.00272 ** \n",
       "---\n",
       "Signif. codes:  0 '***' 0.001 '**' 0.01 '*' 0.05 '.' 0.1 ' ' 1\n",
       "\n",
       "Residual standard error: 4.305 on 238 degrees of freedom\n",
       "Multiple R-squared:  0.749,\tAdjusted R-squared:  0.7353 \n",
       "F-statistic: 54.65 on 13 and 238 DF,  p-value: < 2.2e-16\n"
      ]
     },
     "metadata": {},
     "output_type": "display_data"
    }
   ],
   "source": [
    "summary(z)"
   ]
  },
  {
   "cell_type": "code",
   "execution_count": 14,
   "id": "3f6ea4cc",
   "metadata": {},
   "outputs": [],
   "source": [
    "# p value is small - important variables exists in a model"
   ]
  },
  {
   "cell_type": "code",
   "execution_count": 15,
   "id": "525a3a4e",
   "metadata": {},
   "outputs": [],
   "source": [
    "# residual standard error: 4.3"
   ]
  },
  {
   "cell_type": "code",
   "execution_count": 16,
   "id": "beed0a09",
   "metadata": {},
   "outputs": [],
   "source": [
    "# estimator beta6 = -0.47\n",
    "# estimator of wariance of beta6 = 0.23\n",
    "# p-value of test H0: beta6=0 is small, V6 is important"
   ]
  },
  {
   "cell_type": "code",
   "execution_count": 17,
   "id": "957af0ef",
   "metadata": {},
   "outputs": [],
   "source": [
    "# estimator beta7 = -0.023\n",
    "# estimator of variance beta7 = 0.09\n",
    "# p-wvalue of test H0: beta7=0 is high, V7 is not important. \n",
    "# Either there is no correlation between V7 and Y \n",
    "# or there is a correlation but the dependancy is in other features. \n",
    "# it is the second because correlation between V7 and Y is high (0.7)\n",
    "\n",
    "# additionaly:"
   ]
  },
  {
   "cell_type": "code",
   "execution_count": 18,
   "id": "ead411ca",
   "metadata": {},
   "outputs": [
    {
     "data": {
      "text/html": [
       "<table>\n",
       "<thead><tr><th></th><th scope=col>V3</th><th scope=col>V4</th><th scope=col>V5</th><th scope=col>V6</th><th scope=col>V7</th><th scope=col>V8</th><th scope=col>V9</th><th scope=col>V10</th><th scope=col>V11</th><th scope=col>V12</th><th scope=col>V13</th><th scope=col>V14</th><th scope=col>V15</th></tr></thead>\n",
       "<tbody>\n",
       "\t<tr><th scope=row>V3</th><td> 1.00000000</td><td>-0.01274609</td><td>-0.17164514</td><td>0.1135052  </td><td>0.1764497  </td><td>0.23040942 </td><td>-0.05033212</td><td>-0.2000958 </td><td>0.01751569 </td><td>-0.1050581 </td><td>-0.04116212</td><td>-0.08505555</td><td>0.2135306  </td></tr>\n",
       "\t<tr><th scope=row>V4</th><td>-0.01274609</td><td> 1.00000000</td><td> 0.30827854</td><td>0.8307162  </td><td>0.8941905  </td><td>0.88799494 </td><td> 0.94088412</td><td> 0.8686935 </td><td>0.85316739 </td><td> 0.6136854 </td><td> 0.80041593</td><td> 0.63030143</td><td>0.7297749  </td></tr>\n",
       "\t<tr><th scope=row>V5</th><td>-0.17164514</td><td> 0.30827854</td><td> 1.00000000</td><td>0.2537099  </td><td>0.1348918  </td><td>0.08781291 </td><td> 0.17039426</td><td> 0.1484356 </td><td>0.28605321 </td><td> 0.2647437 </td><td> 0.20781557</td><td> 0.22864922</td><td>0.3220653  </td></tr>\n",
       "\t<tr><th scope=row>V6</th><td> 0.11350519</td><td> 0.83071622</td><td> 0.25370988</td><td>1.0000000  </td><td>0.7848350  </td><td>0.75407737 </td><td> 0.73495788</td><td> 0.6956973 </td><td>0.67240498 </td><td> 0.4778924 </td><td> 0.73114592</td><td> 0.62366027</td><td>0.7448264  </td></tr>\n",
       "\t<tr><th scope=row>V7</th><td> 0.17644968</td><td> 0.89419052</td><td> 0.13489181</td><td>0.7848350  </td><td>1.0000000  </td><td>0.91582767 </td><td> 0.82941992</td><td> 0.7298586 </td><td>0.71949640 </td><td> 0.4829879 </td><td> 0.72790748</td><td> 0.58017273</td><td>0.6601623  </td></tr>\n",
       "\t<tr><th scope=row>V8</th><td> 0.23040942</td><td> 0.88799494</td><td> 0.08781291</td><td>0.7540774  </td><td>0.9158277  </td><td>1.00000000 </td><td> 0.87406618</td><td> 0.7666239 </td><td>0.73717888 </td><td> 0.4532227 </td><td> 0.68498272</td><td> 0.50331609</td><td>0.6198324  </td></tr>\n",
       "\t<tr><th scope=row>V9</th><td>-0.05033212</td><td> 0.94088412</td><td> 0.17039426</td><td>0.7349579  </td><td>0.8294199  </td><td>0.87406618 </td><td> 1.00000000</td><td> 0.8964098 </td><td>0.82347262 </td><td> 0.5583868 </td><td> 0.73927252</td><td> 0.54501412</td><td>0.6300895  </td></tr>\n",
       "\t<tr><th scope=row>V10</th><td>-0.20009576</td><td> 0.86869354</td><td> 0.14843561</td><td>0.6956973  </td><td>0.7298586  </td><td>0.76662393 </td><td> 0.89640979</td><td> 1.0000000 </td><td>0.79917030 </td><td> 0.5397971 </td><td> 0.76147745</td><td> 0.56684218</td><td>0.5586848  </td></tr>\n",
       "\t<tr><th scope=row>V11</th><td> 0.01751569</td><td> 0.85316739</td><td> 0.28605321</td><td>0.6724050  </td><td>0.7194964  </td><td>0.73717888 </td><td> 0.82347262</td><td> 0.7991703 </td><td>1.00000000 </td><td> 0.6116082 </td><td> 0.67870883</td><td> 0.55589819</td><td>0.6645073  </td></tr>\n",
       "\t<tr><th scope=row>V12</th><td>-0.10505810</td><td> 0.61368542</td><td> 0.26474369</td><td>0.4778924  </td><td>0.4829879  </td><td>0.45322269 </td><td> 0.55838682</td><td> 0.5397971 </td><td>0.61160820 </td><td> 1.0000000 </td><td> 0.48485454</td><td> 0.41904999</td><td>0.5661946  </td></tr>\n",
       "\t<tr><th scope=row>V13</th><td>-0.04116212</td><td> 0.80041593</td><td> 0.20781557</td><td>0.7311459  </td><td>0.7279075  </td><td>0.68498272 </td><td> 0.73927252</td><td> 0.7614774 </td><td>0.67870883 </td><td> 0.4848545 </td><td> 1.00000000</td><td> 0.67825513</td><td>0.6321264  </td></tr>\n",
       "\t<tr><th scope=row>V14</th><td>-0.08505555</td><td> 0.63030143</td><td> 0.22864922</td><td>0.6236603  </td><td>0.5801727  </td><td>0.50331609 </td><td> 0.54501412</td><td> 0.5668422 </td><td>0.55589819 </td><td> 0.4190500 </td><td> 0.67825513</td><td> 1.00000000</td><td>0.5855883  </td></tr>\n",
       "\t<tr><th scope=row>V15</th><td> 0.21353062</td><td> 0.72977489</td><td> 0.32206533</td><td>0.7448264  </td><td>0.6601623  </td><td>0.61983243 </td><td> 0.63008954</td><td> 0.5586848 </td><td>0.66450729 </td><td> 0.5661946 </td><td> 0.63212642</td><td> 0.58558825</td><td>1.0000000  </td></tr>\n",
       "</tbody>\n",
       "</table>\n"
      ],
      "text/latex": [
       "\\begin{tabular}{r|lllllllllllll}\n",
       "  & V3 & V4 & V5 & V6 & V7 & V8 & V9 & V10 & V11 & V12 & V13 & V14 & V15\\\\\n",
       "\\hline\n",
       "\tV3 &  1.00000000 & -0.01274609 & -0.17164514 & 0.1135052   & 0.1764497   & 0.23040942  & -0.05033212 & -0.2000958  & 0.01751569  & -0.1050581  & -0.04116212 & -0.08505555 & 0.2135306  \\\\\n",
       "\tV4 & -0.01274609 &  1.00000000 &  0.30827854 & 0.8307162   & 0.8941905   & 0.88799494  &  0.94088412 &  0.8686935  & 0.85316739  &  0.6136854  &  0.80041593 &  0.63030143 & 0.7297749  \\\\\n",
       "\tV5 & -0.17164514 &  0.30827854 &  1.00000000 & 0.2537099   & 0.1348918   & 0.08781291  &  0.17039426 &  0.1484356  & 0.28605321  &  0.2647437  &  0.20781557 &  0.22864922 & 0.3220653  \\\\\n",
       "\tV6 &  0.11350519 &  0.83071622 &  0.25370988 & 1.0000000   & 0.7848350   & 0.75407737  &  0.73495788 &  0.6956973  & 0.67240498  &  0.4778924  &  0.73114592 &  0.62366027 & 0.7448264  \\\\\n",
       "\tV7 &  0.17644968 &  0.89419052 &  0.13489181 & 0.7848350   & 1.0000000   & 0.91582767  &  0.82941992 &  0.7298586  & 0.71949640  &  0.4829879  &  0.72790748 &  0.58017273 & 0.6601623  \\\\\n",
       "\tV8 &  0.23040942 &  0.88799494 &  0.08781291 & 0.7540774   & 0.9158277   & 1.00000000  &  0.87406618 &  0.7666239  & 0.73717888  &  0.4532227  &  0.68498272 &  0.50331609 & 0.6198324  \\\\\n",
       "\tV9 & -0.05033212 &  0.94088412 &  0.17039426 & 0.7349579   & 0.8294199   & 0.87406618  &  1.00000000 &  0.8964098  & 0.82347262  &  0.5583868  &  0.73927252 &  0.54501412 & 0.6300895  \\\\\n",
       "\tV10 & -0.20009576 &  0.86869354 &  0.14843561 & 0.6956973   & 0.7298586   & 0.76662393  &  0.89640979 &  1.0000000  & 0.79917030  &  0.5397971  &  0.76147745 &  0.56684218 & 0.5586848  \\\\\n",
       "\tV11 &  0.01751569 &  0.85316739 &  0.28605321 & 0.6724050   & 0.7194964   & 0.73717888  &  0.82347262 &  0.7991703  & 1.00000000  &  0.6116082  &  0.67870883 &  0.55589819 & 0.6645073  \\\\\n",
       "\tV12 & -0.10505810 &  0.61368542 &  0.26474369 & 0.4778924   & 0.4829879   & 0.45322269  &  0.55838682 &  0.5397971  & 0.61160820  &  1.0000000  &  0.48485454 &  0.41904999 & 0.5661946  \\\\\n",
       "\tV13 & -0.04116212 &  0.80041593 &  0.20781557 & 0.7311459   & 0.7279075   & 0.68498272  &  0.73927252 &  0.7614774  & 0.67870883  &  0.4848545  &  1.00000000 &  0.67825513 & 0.6321264  \\\\\n",
       "\tV14 & -0.08505555 &  0.63030143 &  0.22864922 & 0.6236603   & 0.5801727   & 0.50331609  &  0.54501412 &  0.5668422  & 0.55589819  &  0.4190500  &  0.67825513 &  1.00000000 & 0.5855883  \\\\\n",
       "\tV15 &  0.21353062 &  0.72977489 &  0.32206533 & 0.7448264   & 0.6601623   & 0.61983243  &  0.63008954 &  0.5586848  & 0.66450729  &  0.5661946  &  0.63212642 &  0.58558825 & 1.0000000  \\\\\n",
       "\\end{tabular}\n"
      ],
      "text/markdown": [
       "\n",
       "| <!--/--> | V3 | V4 | V5 | V6 | V7 | V8 | V9 | V10 | V11 | V12 | V13 | V14 | V15 |\n",
       "|---|---|---|---|---|---|---|---|---|---|---|---|---|---|\n",
       "| V3 |  1.00000000 | -0.01274609 | -0.17164514 | 0.1135052   | 0.1764497   | 0.23040942  | -0.05033212 | -0.2000958  | 0.01751569  | -0.1050581  | -0.04116212 | -0.08505555 | 0.2135306   |\n",
       "| V4 | -0.01274609 |  1.00000000 |  0.30827854 | 0.8307162   | 0.8941905   | 0.88799494  |  0.94088412 |  0.8686935  | 0.85316739  |  0.6136854  |  0.80041593 |  0.63030143 | 0.7297749   |\n",
       "| V5 | -0.17164514 |  0.30827854 |  1.00000000 | 0.2537099   | 0.1348918   | 0.08781291  |  0.17039426 |  0.1484356  | 0.28605321  |  0.2647437  |  0.20781557 |  0.22864922 | 0.3220653   |\n",
       "| V6 |  0.11350519 |  0.83071622 |  0.25370988 | 1.0000000   | 0.7848350   | 0.75407737  |  0.73495788 |  0.6956973  | 0.67240498  |  0.4778924  |  0.73114592 |  0.62366027 | 0.7448264   |\n",
       "| V7 |  0.17644968 |  0.89419052 |  0.13489181 | 0.7848350   | 1.0000000   | 0.91582767  |  0.82941992 |  0.7298586  | 0.71949640  |  0.4829879  |  0.72790748 |  0.58017273 | 0.6601623   |\n",
       "| V8 |  0.23040942 |  0.88799494 |  0.08781291 | 0.7540774   | 0.9158277   | 1.00000000  |  0.87406618 |  0.7666239  | 0.73717888  |  0.4532227  |  0.68498272 |  0.50331609 | 0.6198324   |\n",
       "| V9 | -0.05033212 |  0.94088412 |  0.17039426 | 0.7349579   | 0.8294199   | 0.87406618  |  1.00000000 |  0.8964098  | 0.82347262  |  0.5583868  |  0.73927252 |  0.54501412 | 0.6300895   |\n",
       "| V10 | -0.20009576 |  0.86869354 |  0.14843561 | 0.6956973   | 0.7298586   | 0.76662393  |  0.89640979 |  1.0000000  | 0.79917030  |  0.5397971  |  0.76147745 |  0.56684218 | 0.5586848   |\n",
       "| V11 |  0.01751569 |  0.85316739 |  0.28605321 | 0.6724050   | 0.7194964   | 0.73717888  |  0.82347262 |  0.7991703  | 1.00000000  |  0.6116082  |  0.67870883 |  0.55589819 | 0.6645073   |\n",
       "| V12 | -0.10505810 |  0.61368542 |  0.26474369 | 0.4778924   | 0.4829879   | 0.45322269  |  0.55838682 |  0.5397971  | 0.61160820  |  1.0000000  |  0.48485454 |  0.41904999 | 0.5661946   |\n",
       "| V13 | -0.04116212 |  0.80041593 |  0.20781557 | 0.7311459   | 0.7279075   | 0.68498272  |  0.73927252 |  0.7614774  | 0.67870883  |  0.4848545  |  1.00000000 |  0.67825513 | 0.6321264   |\n",
       "| V14 | -0.08505555 |  0.63030143 |  0.22864922 | 0.6236603   | 0.5801727   | 0.50331609  |  0.54501412 |  0.5668422  | 0.55589819  |  0.4190500  |  0.67825513 |  1.00000000 | 0.5855883   |\n",
       "| V15 |  0.21353062 |  0.72977489 |  0.32206533 | 0.7448264   | 0.6601623   | 0.61983243  |  0.63008954 |  0.5586848  | 0.66450729  |  0.5661946  |  0.63212642 |  0.58558825 | 1.0000000   |\n",
       "\n"
      ],
      "text/plain": [
       "    V3          V4          V5          V6        V7        V8        \n",
       "V3   1.00000000 -0.01274609 -0.17164514 0.1135052 0.1764497 0.23040942\n",
       "V4  -0.01274609  1.00000000  0.30827854 0.8307162 0.8941905 0.88799494\n",
       "V5  -0.17164514  0.30827854  1.00000000 0.2537099 0.1348918 0.08781291\n",
       "V6   0.11350519  0.83071622  0.25370988 1.0000000 0.7848350 0.75407737\n",
       "V7   0.17644968  0.89419052  0.13489181 0.7848350 1.0000000 0.91582767\n",
       "V8   0.23040942  0.88799494  0.08781291 0.7540774 0.9158277 1.00000000\n",
       "V9  -0.05033212  0.94088412  0.17039426 0.7349579 0.8294199 0.87406618\n",
       "V10 -0.20009576  0.86869354  0.14843561 0.6956973 0.7298586 0.76662393\n",
       "V11  0.01751569  0.85316739  0.28605321 0.6724050 0.7194964 0.73717888\n",
       "V12 -0.10505810  0.61368542  0.26474369 0.4778924 0.4829879 0.45322269\n",
       "V13 -0.04116212  0.80041593  0.20781557 0.7311459 0.7279075 0.68498272\n",
       "V14 -0.08505555  0.63030143  0.22864922 0.6236603 0.5801727 0.50331609\n",
       "V15  0.21353062  0.72977489  0.32206533 0.7448264 0.6601623 0.61983243\n",
       "    V9          V10        V11        V12        V13         V14        \n",
       "V3  -0.05033212 -0.2000958 0.01751569 -0.1050581 -0.04116212 -0.08505555\n",
       "V4   0.94088412  0.8686935 0.85316739  0.6136854  0.80041593  0.63030143\n",
       "V5   0.17039426  0.1484356 0.28605321  0.2647437  0.20781557  0.22864922\n",
       "V6   0.73495788  0.6956973 0.67240498  0.4778924  0.73114592  0.62366027\n",
       "V7   0.82941992  0.7298586 0.71949640  0.4829879  0.72790748  0.58017273\n",
       "V8   0.87406618  0.7666239 0.73717888  0.4532227  0.68498272  0.50331609\n",
       "V9   1.00000000  0.8964098 0.82347262  0.5583868  0.73927252  0.54501412\n",
       "V10  0.89640979  1.0000000 0.79917030  0.5397971  0.76147745  0.56684218\n",
       "V11  0.82347262  0.7991703 1.00000000  0.6116082  0.67870883  0.55589819\n",
       "V12  0.55838682  0.5397971 0.61160820  1.0000000  0.48485454  0.41904999\n",
       "V13  0.73927252  0.7614774 0.67870883  0.4848545  1.00000000  0.67825513\n",
       "V14  0.54501412  0.5668422 0.55589819  0.4190500  0.67825513  1.00000000\n",
       "V15  0.63008954  0.5586848 0.66450729  0.5661946  0.63212642  0.58558825\n",
       "    V15      \n",
       "V3  0.2135306\n",
       "V4  0.7297749\n",
       "V5  0.3220653\n",
       "V6  0.7448264\n",
       "V7  0.6601623\n",
       "V8  0.6198324\n",
       "V9  0.6300895\n",
       "V10 0.5586848\n",
       "V11 0.6645073\n",
       "V12 0.5661946\n",
       "V13 0.6321264\n",
       "V14 0.5855883\n",
       "V15 1.0000000"
      ]
     },
     "metadata": {},
     "output_type": "display_data"
    }
   ],
   "source": [
    "cor(x)"
   ]
  },
  {
   "cell_type": "code",
   "execution_count": 19,
   "id": "ca7bb927",
   "metadata": {},
   "outputs": [],
   "source": [
    "# V7 is highly correlated with other features: eg V4,V6,V8,V9\n",
    "# so these other features holds well that information"
   ]
  }
 ],
 "metadata": {
  "kernelspec": {
   "display_name": "R",
   "language": "R",
   "name": "ir"
  },
  "language_info": {
   "codemirror_mode": "r",
   "file_extension": ".r",
   "mimetype": "text/x-r-source",
   "name": "R",
   "pygments_lexer": "r",
   "version": "3.6.1"
  }
 },
 "nbformat": 4,
 "nbformat_minor": 5
}
