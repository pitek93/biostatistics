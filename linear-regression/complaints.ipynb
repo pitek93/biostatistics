{
 "cells": [
  {
   "cell_type": "code",
   "execution_count": 1,
   "id": "7ab7b22d",
   "metadata": {},
   "outputs": [],
   "source": [
    "a=file.choose() #complaints.txt\n",
    "b=read.table(a,header=TRUE)"
   ]
  },
  {
   "cell_type": "code",
   "execution_count": 2,
   "id": "6995d6cc",
   "metadata": {},
   "outputs": [],
   "source": [
    "x=b[,3:6]\n",
    "y=b[,2]/b[,1]"
   ]
  },
  {
   "cell_type": "code",
   "execution_count": 3,
   "id": "517bae0b",
   "metadata": {},
   "outputs": [
    {
     "data": {
      "text/plain": [
       "\n",
       "Call:\n",
       "lm(formula = y ~ ., data = as.data.frame(x))\n",
       "\n",
       "Residuals:\n",
       "       Min         1Q     Median         3Q        Max \n",
       "-0.0011605 -0.0006294 -0.0002202  0.0006975  0.0014762 \n",
       "\n",
       "Coefficients:\n",
       "              Estimate Std. Error t value Pr(>|t|)\n",
       "(Intercept) -6.441e-05  1.250e-03  -0.052    0.959\n",
       "residencyY  -1.327e-04  3.293e-04  -0.403    0.689\n",
       "genderM      1.973e-04  3.149e-04   0.627    0.535\n",
       "revenue      1.351e-06  4.610e-06   0.293    0.771\n",
       "hours        6.763e-07  4.610e-07   1.467    0.150\n",
       "\n",
       "Residual standard error: 0.0008827 on 39 degrees of freedom\n",
       "Multiple R-squared:  0.09674,\tAdjusted R-squared:  0.004095 \n",
       "F-statistic: 1.044 on 4 and 39 DF,  p-value: 0.3969\n"
      ]
     },
     "metadata": {},
     "output_type": "display_data"
    }
   ],
   "source": [
    "z=lm(y~.,data=as.data.frame(x))\n",
    "summary(z)"
   ]
  },
  {
   "cell_type": "code",
   "execution_count": 4,
   "id": "8b545b65",
   "metadata": {},
   "outputs": [],
   "source": [
    "# R^2 is very low, linear model is inadequate."
   ]
  }
 ],
 "metadata": {
  "kernelspec": {
   "display_name": "R",
   "language": "R",
   "name": "ir"
  },
  "language_info": {
   "codemirror_mode": "r",
   "file_extension": ".r",
   "mimetype": "text/x-r-source",
   "name": "R",
   "pygments_lexer": "r",
   "version": "3.6.1"
  }
 },
 "nbformat": 4,
 "nbformat_minor": 5
}
