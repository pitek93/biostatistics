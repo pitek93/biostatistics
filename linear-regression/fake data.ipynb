{
 "cells": [
  {
   "cell_type": "code",
   "execution_count": 1,
   "id": "ebd8dd2e",
   "metadata": {},
   "outputs": [],
   "source": [
    "# N(0,1) n x p\n",
    "n=100\n",
    "p=5\n",
    "x=matrix(rnorm(n*p),nrow=n)\n"
   ]
  },
  {
   "cell_type": "code",
   "execution_count": 2,
   "id": "e3e223a2",
   "metadata": {},
   "outputs": [],
   "source": [
    "# parameters vec\n",
    "beta=c(2,3,-1,0,0,-2)"
   ]
  },
  {
   "cell_type": "code",
   "execution_count": 3,
   "id": "cd596806",
   "metadata": {},
   "outputs": [],
   "source": [
    "# data generation. multiplying feature vec * beta + error N(0,2)\n",
    "y=cbind(1,x)%*%beta + rnorm(n,sd=2)"
   ]
  },
  {
   "cell_type": "code",
   "execution_count": 4,
   "id": "7937d7ec",
   "metadata": {},
   "outputs": [
    {
     "data": {
      "text/plain": [
       "\n",
       "Call:\n",
       "lm(formula = y ~ ., data = as.data.frame(x))\n",
       "\n",
       "Residuals:\n",
       "    Min      1Q  Median      3Q     Max \n",
       "-4.9291 -1.3390 -0.1609  1.1973  5.6759 \n",
       "\n",
       "Coefficients:\n",
       "            Estimate Std. Error t value Pr(>|t|)    \n",
       "(Intercept)   1.6263     0.2022   8.041 2.62e-12 ***\n",
       "V1            2.6812     0.2028  13.219  < 2e-16 ***\n",
       "V2           -0.7087     0.2057  -3.446 0.000851 ***\n",
       "V3           -0.2810     0.2074  -1.355 0.178662    \n",
       "V4            0.2879     0.1907   1.509 0.134529    \n",
       "V5           -2.2523     0.2091 -10.771  < 2e-16 ***\n",
       "---\n",
       "Signif. codes:  0 '***' 0.001 '**' 0.01 '*' 0.05 '.' 0.1 ' ' 1\n",
       "\n",
       "Residual standard error: 1.994 on 94 degrees of freedom\n",
       "Multiple R-squared:  0.7442,\tAdjusted R-squared:  0.7306 \n",
       "F-statistic:  54.7 on 5 and 94 DF,  p-value: < 2.2e-16\n"
      ]
     },
     "metadata": {},
     "output_type": "display_data"
    }
   ],
   "source": [
    "z=lm(y~.,data = as.data.frame(x))\n",
    "summary(z)"
   ]
  },
  {
   "cell_type": "code",
   "execution_count": 5,
   "id": "3054de31",
   "metadata": {},
   "outputs": [],
   "source": [
    "# data is artificially produced so that R^2 is high\n",
    "# assumptions are met (independent errors of N(0, sigma) distribution)\n",
    "# estimators are close to the real values of beta vec"
   ]
  }
 ],
 "metadata": {
  "kernelspec": {
   "display_name": "R",
   "language": "R",
   "name": "ir"
  },
  "language_info": {
   "codemirror_mode": "r",
   "file_extension": ".r",
   "mimetype": "text/x-r-source",
   "name": "R",
   "pygments_lexer": "r",
   "version": "3.6.1"
  }
 },
 "nbformat": 4,
 "nbformat_minor": 5
}
