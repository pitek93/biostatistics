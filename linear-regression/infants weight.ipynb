{
 "cells": [
  {
   "cell_type": "code",
   "execution_count": 1,
   "id": "6deac458",
   "metadata": {},
   "outputs": [],
   "source": [
    "a=file.choose() # infants weight.txt\n",
    "b=read.table(a,header=T)"
   ]
  },
  {
   "cell_type": "code",
   "execution_count": 2,
   "id": "7cb9cbca",
   "metadata": {},
   "outputs": [],
   "source": [
    "x=b[,1] #infants weight\n",
    "y=b[,2] #infants weight gain"
   ]
  },
  {
   "cell_type": "code",
   "execution_count": 3,
   "id": "75e00e85",
   "metadata": {},
   "outputs": [],
   "source": [
    "library(repr)\n",
    "options(repr.plot.width=4, repr.plot.height=3)"
   ]
  },
  {
   "cell_type": "code",
   "execution_count": 4,
   "id": "3ba4cabf",
   "metadata": {},
   "outputs": [
    {
     "data": {
      "image/png": "[encoded data removed]",
      "text/plain": [
       "plot without title"
      ]
     },
     "metadata": {},
     "output_type": "display_data"
    }
   ],
   "source": [
    "plot(x,y)"
   ]
  },
  {
   "cell_type": "code",
   "execution_count": null,
   "id": "2dc93d11",
   "metadata": {},
   "outputs": [],
   "source": [
    "# negative correlation"
   ]
  },
  {
   "cell_type": "code",
   "execution_count": 5,
   "id": "76f3a7cb",
   "metadata": {},
   "outputs": [],
   "source": [
    "# linear regression\n",
    "z=lm(y~x)"
   ]
  },
  {
   "cell_type": "code",
   "execution_count": 6,
   "id": "704b4859",
   "metadata": {},
   "outputs": [
    {
     "data": {
      "text/plain": [
       "\n",
       "Call:\n",
       "lm(formula = y ~ x)\n",
       "\n",
       "Residuals:\n",
       "    Min      1Q  Median      3Q     Max \n",
       "-21.160  -0.302   1.739   3.119  12.948 \n",
       "\n",
       "Coefficients:\n",
       "            Estimate Std. Error t value Pr(>|t|)    \n",
       "(Intercept) 255.9719    19.0454  13.440 1.00e-07 ***\n",
       "x            -1.7371     0.1877  -9.255 3.22e-06 ***\n",
       "---\n",
       "Signif. codes:  0 '***' 0.001 '**' 0.01 '*' 0.05 '.' 0.1 ' ' 1\n",
       "\n",
       "Residual standard error: 8.717 on 10 degrees of freedom\n",
       "Multiple R-squared:  0.8955,\tAdjusted R-squared:  0.885 \n",
       "F-statistic: 85.66 on 1 and 10 DF,  p-value: 3.216e-06\n"
      ]
     },
     "metadata": {},
     "output_type": "display_data"
    }
   ],
   "source": [
    "summary(z)"
   ]
  },
  {
   "cell_type": "code",
   "execution_count": 7,
   "id": "cdef3bb9",
   "metadata": {},
   "outputs": [],
   "source": [
    "#R2=0.89 - high, linear model is fairly well fitted"
   ]
  },
  {
   "cell_type": "code",
   "execution_count": null,
   "id": "214239e1",
   "metadata": {},
   "outputs": [],
   "source": [
    "# assumptions\n",
    "# errors are independent and have same distribution N(0, sigma)\n",
    "# errors are checked with residuals"
   ]
  },
  {
   "cell_type": "code",
   "execution_count": 8,
   "id": "54773aa6",
   "metadata": {},
   "outputs": [
    {
     "data": {
      "text/html": [
       "<dl class=dl-horizontal>\n",
       "\t<dt>1</dt>\n",
       "\t\t<dd>1.5817331839433</dd>\n",
       "\t<dt>2</dt>\n",
       "\t\t<dd>2.84464706564153</dd>\n",
       "\t<dt>3</dt>\n",
       "\t\t<dd>1.89630259243516</dd>\n",
       "\t<dt>4</dt>\n",
       "\t\t<dd>2.74133601205421</dd>\n",
       "\t<dt>5</dt>\n",
       "\t\t<dd>-21.1599891820886</dd>\n",
       "\t<dt>6</dt>\n",
       "\t\t<dd>0.994977398292323</dd>\n",
       "\t<dt>7</dt>\n",
       "\t\t<dd>4.73206351659391</dd>\n",
       "\t<dt>8</dt>\n",
       "\t\t<dd>3.94332187149867</dd>\n",
       "\t<dt>9</dt>\n",
       "\t\t<dd>-8.99575010624738</dd>\n",
       "\t<dt>10</dt>\n",
       "\t\t<dd>0.159216474133576</dd>\n",
       "\t<dt>11</dt>\n",
       "\t\t<dd>12.9479581192288</dd>\n",
       "\t<dt>12</dt>\n",
       "\t\t<dd>-1.68581694548546</dd>\n",
       "</dl>\n"
      ],
      "text/latex": [
       "\\begin{description*}\n",
       "\\item[1] 1.5817331839433\n",
       "\\item[2] 2.84464706564153\n",
       "\\item[3] 1.89630259243516\n",
       "\\item[4] 2.74133601205421\n",
       "\\item[5] -21.1599891820886\n",
       "\\item[6] 0.994977398292323\n",
       "\\item[7] 4.73206351659391\n",
       "\\item[8] 3.94332187149867\n",
       "\\item[9] -8.99575010624738\n",
       "\\item[10] 0.159216474133576\n",
       "\\item[11] 12.9479581192288\n",
       "\\item[12] -1.68581694548546\n",
       "\\end{description*}\n"
      ],
      "text/markdown": [
       "1\n",
       ":   1.58173318394332\n",
       ":   2.844647065641533\n",
       ":   1.896302592435164\n",
       ":   2.741336012054215\n",
       ":   -21.15998918208866\n",
       ":   0.9949773982923237\n",
       ":   4.732063516593918\n",
       ":   3.943321871498679\n",
       ":   -8.9957501062473810\n",
       ":   0.15921647413357611\n",
       ":   12.947958119228812\n",
       ":   -1.68581694548546\n",
       "\n"
      ],
      "text/plain": [
       "          1           2           3           4           5           6 \n",
       "  1.5817332   2.8446471   1.8963026   2.7413360 -21.1599892   0.9949774 \n",
       "          7           8           9          10          11          12 \n",
       "  4.7320635   3.9433219  -8.9957501   0.1592165  12.9479581  -1.6858169 "
      ]
     },
     "metadata": {},
     "output_type": "display_data"
    }
   ],
   "source": [
    "z$res"
   ]
  },
  {
   "cell_type": "code",
   "execution_count": 9,
   "id": "78c6ea8b",
   "metadata": {},
   "outputs": [
    {
     "data": {
      "image/png": "[encoded data removed]",
      "text/plain": [
       "Plot with title \"\""
      ]
     },
     "metadata": {},
     "output_type": "display_data"
    },
    {
     "data": {
      "image/png": "[encoded data removed]",
      "text/plain": [
       "Plot with title \"\""
      ]
     },
     "metadata": {},
     "output_type": "display_data"
    },
    {
     "data": {
      "image/png": "[encoded data removed]",
      "text/plain": [
       "Plot with title \"\""
      ]
     },
     "metadata": {},
     "output_type": "display_data"
    },
    {
     "data": {
      "image/png": "[encoded data removed]",
      "text/plain": [
       "Plot with title \"\""
      ]
     },
     "metadata": {},
     "output_type": "display_data"
    }
   ],
   "source": [
    "plot(z)"
   ]
  },
  {
   "cell_type": "code",
   "execution_count": null,
   "id": "d841601f",
   "metadata": {},
   "outputs": [],
   "source": [
    "# plot 1 random noise around 0"
   ]
  },
  {
   "cell_type": "code",
   "execution_count": 10,
   "id": "fe0c1abb",
   "metadata": {},
   "outputs": [
    {
     "data": {
      "text/plain": [
       "\n",
       "\tShapiro-Wilk normality test\n",
       "\n",
       "data:  z$res\n",
       "W = 0.83281, p-value = 0.02266\n"
      ]
     },
     "metadata": {},
     "output_type": "display_data"
    }
   ],
   "source": [
    "#normality test\n",
    "shapiro.test(z$res)"
   ]
  },
  {
   "cell_type": "code",
   "execution_count": null,
   "id": "65cbfe7f",
   "metadata": {},
   "outputs": [],
   "source": [
    "# assumptions of linear model are not met, but its close,\n",
    "# performing analysis of the estimators..."
   ]
  },
  {
   "cell_type": "code",
   "execution_count": 11,
   "id": "35cf5e48",
   "metadata": {},
   "outputs": [
    {
     "data": {
      "text/plain": [
       "\n",
       "Call:\n",
       "lm(formula = y ~ x)\n",
       "\n",
       "Residuals:\n",
       "    Min      1Q  Median      3Q     Max \n",
       "-21.160  -0.302   1.739   3.119  12.948 \n",
       "\n",
       "Coefficients:\n",
       "            Estimate Std. Error t value Pr(>|t|)    \n",
       "(Intercept) 255.9719    19.0454  13.440 1.00e-07 ***\n",
       "x            -1.7371     0.1877  -9.255 3.22e-06 ***\n",
       "---\n",
       "Signif. codes:  0 '***' 0.001 '**' 0.01 '*' 0.05 '.' 0.1 ' ' 1\n",
       "\n",
       "Residual standard error: 8.717 on 10 degrees of freedom\n",
       "Multiple R-squared:  0.8955,\tAdjusted R-squared:  0.885 \n",
       "F-statistic: 85.66 on 1 and 10 DF,  p-value: 3.216e-06\n"
      ]
     },
     "metadata": {},
     "output_type": "display_data"
    }
   ],
   "source": [
    "summary(z)"
   ]
  },
  {
   "cell_type": "code",
   "execution_count": null,
   "id": "2dd4b5a7",
   "metadata": {},
   "outputs": [],
   "source": [
    "#estimator beta1 = -1.71 (with variance 0.1877)"
   ]
  },
  {
   "cell_type": "code",
   "execution_count": null,
   "id": "f72a73f2",
   "metadata": {},
   "outputs": [],
   "source": [
    "#p-val of test H0: beta1=0 is small, therefore its important"
   ]
  },
  {
   "cell_type": "code",
   "execution_count": null,
   "id": "1d22061a",
   "metadata": {},
   "outputs": [],
   "source": [
    "# x and y dependancy is statistically significant (confirmation of plot 1)\n",
    "#b0 = 255.97"
   ]
  },
  {
   "cell_type": "code",
   "execution_count": null,
   "id": "174ea12d",
   "metadata": {},
   "outputs": [],
   "source": [
    "#therefore: \n",
    "#y = -1.71 * x + 255.97"
   ]
  }
 ],
 "metadata": {
  "kernelspec": {
   "display_name": "R",
   "language": "R",
   "name": "ir"
  },
  "language_info": {
   "codemirror_mode": "r",
   "file_extension": ".r",
   "mimetype": "text/x-r-source",
   "name": "R",
   "pygments_lexer": "r",
   "version": "3.6.1"
  }
 },
 "nbformat": 4,
 "nbformat_minor": 5
}
