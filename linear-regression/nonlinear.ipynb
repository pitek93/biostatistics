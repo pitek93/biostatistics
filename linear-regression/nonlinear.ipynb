{
 "cells": [
  {
   "cell_type": "code",
   "execution_count": 1,
   "id": "9f2712c9",
   "metadata": {},
   "outputs": [],
   "source": [
    "a=file.choose() # nonlinear.txt\n",
    "b=read.table(a,header=T)"
   ]
  },
  {
   "cell_type": "code",
   "execution_count": 2,
   "id": "40c05da3",
   "metadata": {},
   "outputs": [],
   "source": [
    "x=b[,1]\n",
    "y=b[,2]"
   ]
  },
  {
   "cell_type": "code",
   "execution_count": 4,
   "id": "3922a0e7",
   "metadata": {},
   "outputs": [],
   "source": [
    "library(repr)\n",
    "options(repr.plot.width=4, repr.plot.height=3)"
   ]
  },
  {
   "cell_type": "code",
   "execution_count": 5,
   "id": "d1438b4a",
   "metadata": {},
   "outputs": [
    {
     "data": {
      "image/png": "[encoded data removed]",
      "text/plain": [
       "plot without title"
      ]
     },
     "metadata": {},
     "output_type": "display_data"
    }
   ],
   "source": [
    "plot(x,y)"
   ]
  },
  {
   "cell_type": "code",
   "execution_count": null,
   "id": "2f07dbfa",
   "metadata": {},
   "outputs": [],
   "source": [
    "# nonlinear dependancy, building linear model anyway"
   ]
  },
  {
   "cell_type": "code",
   "execution_count": 6,
   "id": "74ee0012",
   "metadata": {},
   "outputs": [
    {
     "data": {
      "text/plain": [
       "\n",
       "Call:\n",
       "lm(formula = y ~ x)\n",
       "\n",
       "Residuals:\n",
       "    Min      1Q  Median      3Q     Max \n",
       "-14.528  -8.728  -4.449   4.249  97.745 \n",
       "\n",
       "Coefficients:\n",
       "            Estimate Std. Error t value Pr(>|t|)    \n",
       "(Intercept)    2.851      2.496   1.142    0.259    \n",
       "x            -23.244      2.663  -8.729 1.78e-11 ***\n",
       "---\n",
       "Signif. codes:  0 '***' 0.001 '**' 0.01 '*' 0.05 '.' 0.1 ' ' 1\n",
       "\n",
       "Residual standard error: 17.14 on 48 degrees of freedom\n",
       "Multiple R-squared:  0.6135,\tAdjusted R-squared:  0.6055 \n",
       "F-statistic:  76.2 on 1 and 48 DF,  p-value: 1.78e-11\n"
      ]
     },
     "metadata": {},
     "output_type": "display_data"
    }
   ],
   "source": [
    "z=lm(y~x)\n",
    "summary(z)"
   ]
  },
  {
   "cell_type": "code",
   "execution_count": null,
   "id": "690f4dc6",
   "metadata": {},
   "outputs": [],
   "source": [
    "# R^2 is relatively high, trying to improove..."
   ]
  },
  {
   "cell_type": "code",
   "execution_count": 7,
   "id": "d437d7cc",
   "metadata": {},
   "outputs": [],
   "source": [
    "x_new = cbind(x,x^2,x^3)"
   ]
  },
  {
   "cell_type": "code",
   "execution_count": 8,
   "id": "de0ed725",
   "metadata": {},
   "outputs": [
    {
     "data": {
      "text/plain": [
       "\n",
       "Call:\n",
       "lm(formula = y ~ ., data = as.data.frame(x_new))\n",
       "\n",
       "Residuals:\n",
       "     Min       1Q   Median       3Q      Max \n",
       "-1.54254 -0.48247  0.00645  0.42986  1.54178 \n",
       "\n",
       "Coefficients:\n",
       "            Estimate Std. Error  t value Pr(>|t|)    \n",
       "(Intercept)  1.93132    0.13300   14.521   <2e-16 ***\n",
       "x            0.09366    0.19614    0.478    0.635    \n",
       "V2           2.05091    0.09817   20.891   <2e-16 ***\n",
       "V3          -8.06680    0.06370 -126.643   <2e-16 ***\n",
       "---\n",
       "Signif. codes:  0 '***' 0.001 '**' 0.01 '*' 0.05 '.' 0.1 ' ' 1\n",
       "\n",
       "Residual standard error: 0.7286 on 46 degrees of freedom\n",
       "Multiple R-squared:  0.9993,\tAdjusted R-squared:  0.9993 \n",
       "F-statistic: 2.289e+04 on 3 and 46 DF,  p-value: < 2.2e-16\n"
      ]
     },
     "metadata": {},
     "output_type": "display_data"
    }
   ],
   "source": [
    "z=lm(y~.,data = as.data.frame(x_new))\n",
    "summary(z)"
   ]
  },
  {
   "cell_type": "code",
   "execution_count": null,
   "id": "e45ce730",
   "metadata": {},
   "outputs": [],
   "source": [
    "# R^2 is almost equal to 1 "
   ]
  },
  {
   "cell_type": "code",
   "execution_count": null,
   "id": "6018b588",
   "metadata": {},
   "outputs": [],
   "source": [
    "#y = 1.93 + 0.09*x + 2.05 *x^2 - 8.06*x^3 + error "
   ]
  }
 ],
 "metadata": {
  "kernelspec": {
   "display_name": "R",
   "language": "R",
   "name": "ir"
  },
  "language_info": {
   "codemirror_mode": "r",
   "file_extension": ".r",
   "mimetype": "text/x-r-source",
   "name": "R",
   "pygments_lexer": "r",
   "version": "3.6.1"
  }
 },
 "nbformat": 4,
 "nbformat_minor": 5
}
