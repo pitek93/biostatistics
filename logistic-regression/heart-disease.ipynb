{
 "cells": [
  {
   "cell_type": "code",
   "execution_count": 1,
   "id": "7f212518",
   "metadata": {},
   "outputs": [],
   "source": [
    "a=file.choose()\n",
    "b=read.table(a,header=T,sep=\",\")"
   ]
  },
  {
   "cell_type": "code",
   "execution_count": 2,
   "id": "e00a1e3c",
   "metadata": {},
   "outputs": [],
   "source": [
    "x=b[,2:10]\n",
    "y=b[,11]"
   ]
  },
  {
   "cell_type": "code",
   "execution_count": 3,
   "id": "168e09ce",
   "metadata": {},
   "outputs": [
    {
     "data": {
      "text/plain": [
       "\n",
       "Call:\n",
       "glm(formula = y ~ ., family = binomial(logit), data = as.data.frame(x))\n",
       "\n",
       "Deviance Residuals: \n",
       "    Min       1Q   Median       3Q      Max  \n",
       "-1.7781  -0.8213  -0.4387   0.8889   2.5435  \n",
       "\n",
       "Coefficients:\n",
       "                 Estimate Std. Error z value Pr(>|z|)    \n",
       "(Intercept)    -6.1507209  1.3082600  -4.701 2.58e-06 ***\n",
       "sbp             0.0065040  0.0057304   1.135 0.256374    \n",
       "tobacco         0.0793764  0.0266028   2.984 0.002847 ** \n",
       "ldl             0.1739239  0.0596617   2.915 0.003555 ** \n",
       "adiposity       0.0185866  0.0292894   0.635 0.525700    \n",
       "famhistPresent  0.9253704  0.2278940   4.061 4.90e-05 ***\n",
       "typea           0.0395950  0.0123202   3.214 0.001310 ** \n",
       "obesity        -0.0629099  0.0442477  -1.422 0.155095    \n",
       "alcohol         0.0001217  0.0044832   0.027 0.978350    \n",
       "age             0.0452253  0.0121298   3.728 0.000193 ***\n",
       "---\n",
       "Signif. codes:  0 '***' 0.001 '**' 0.01 '*' 0.05 '.' 0.1 ' ' 1\n",
       "\n",
       "(Dispersion parameter for binomial family taken to be 1)\n",
       "\n",
       "    Null deviance: 596.11  on 461  degrees of freedom\n",
       "Residual deviance: 472.14  on 452  degrees of freedom\n",
       "AIC: 492.14\n",
       "\n",
       "Number of Fisher Scoring iterations: 5\n"
      ]
     },
     "metadata": {},
     "output_type": "display_data"
    }
   ],
   "source": [
    "z=glm(y~.,data = as.data.frame(x),family=binomial(logit))\n",
    "summary(z)"
   ]
  },
  {
   "cell_type": "code",
   "execution_count": 4,
   "id": "24f27c21",
   "metadata": {},
   "outputs": [
    {
     "data": {
      "text/html": [
       "0.207962819280097"
      ],
      "text/latex": [
       "0.207962819280097"
      ],
      "text/markdown": [
       "0.207962819280097"
      ],
      "text/plain": [
       "[1] 0.2079628"
      ]
     },
     "metadata": {},
     "output_type": "display_data"
    }
   ],
   "source": [
    "# Coefficient of determination R^2\n",
    "1-z$deviance/z$null.deviance"
   ]
  },
  {
   "cell_type": "code",
   "execution_count": null,
   "id": "7b628d91",
   "metadata": {},
   "outputs": [],
   "source": [
    "#Test H_0: all variables not important"
   ]
  },
  {
   "cell_type": "code",
   "execution_count": 5,
   "id": "c630fed7",
   "metadata": {},
   "outputs": [
    {
     "data": {
      "text/html": [
       "123.968387617783"
      ],
      "text/latex": [
       "123.968387617783"
      ],
      "text/markdown": [
       "123.968387617783"
      ],
      "text/plain": [
       "[1] 123.9684"
      ]
     },
     "metadata": {},
     "output_type": "display_data"
    }
   ],
   "source": [
    "#test stats\n",
    "z$null.deviance - z$deviance"
   ]
  },
  {
   "cell_type": "code",
   "execution_count": 6,
   "id": "5fedd8cf",
   "metadata": {},
   "outputs": [
    {
     "data": {
      "text/html": [
       "16.9189776046205"
      ],
      "text/latex": [
       "16.9189776046205"
      ],
      "text/markdown": [
       "16.9189776046205"
      ],
      "text/plain": [
       "[1] 16.91898"
      ]
     },
     "metadata": {},
     "output_type": "display_data"
    }
   ],
   "source": [
    "# critical set with confidence level at 0.05\n",
    "qchisq(1-0.05, df = 9)"
   ]
  },
  {
   "cell_type": "code",
   "execution_count": null,
   "id": "e843d3ec",
   "metadata": {},
   "outputs": [],
   "source": [
    "#(16.9, \\infty)"
   ]
  },
  {
   "cell_type": "code",
   "execution_count": null,
   "id": "b4b3eda9",
   "metadata": {},
   "outputs": [],
   "source": [
    "#rejecting H_0, there are important features"
   ]
  }
 ],
 "metadata": {
  "kernelspec": {
   "display_name": "R",
   "language": "R",
   "name": "ir"
  },
  "language_info": {
   "codemirror_mode": "r",
   "file_extension": ".r",
   "mimetype": "text/x-r-source",
   "name": "R",
   "pygments_lexer": "r",
   "version": "3.6.1"
  }
 },
 "nbformat": 4,
 "nbformat_minor": 5
}
