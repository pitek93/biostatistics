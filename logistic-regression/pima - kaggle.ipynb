{
 "cells": [
  {
   "cell_type": "code",
   "execution_count": null,
   "id": "e78d42a5",
   "metadata": {},
   "outputs": [],
   "source": [
    "# https://www.kaggle.com/uciml/pima-indians-diabetes-database"
   ]
  },
  {
   "cell_type": "code",
   "execution_count": 1,
   "id": "8603e122",
   "metadata": {},
   "outputs": [],
   "source": [
    "a=file.choose()\n",
    "b=read.table(a,header=F)"
   ]
  },
  {
   "cell_type": "code",
   "execution_count": 2,
   "id": "afcbe1ff",
   "metadata": {},
   "outputs": [],
   "source": [
    "x=b[,1:8]\n",
    "y=b[,9]"
   ]
  },
  {
   "cell_type": "code",
   "execution_count": 3,
   "id": "36834193",
   "metadata": {},
   "outputs": [
    {
     "data": {
      "text/plain": [
       "\n",
       "Call:\n",
       "glm(formula = y ~ ., family = binomial(logit), data = as.data.frame(x))\n",
       "\n",
       "Deviance Residuals: \n",
       "    Min       1Q   Median       3Q      Max  \n",
       "-2.5566  -0.7274  -0.4159   0.7267   2.9297  \n",
       "\n",
       "Coefficients:\n",
       "              Estimate Std. Error z value Pr(>|z|)    \n",
       "(Intercept) -8.4046964  0.7166359 -11.728  < 2e-16 ***\n",
       "V1           0.1231823  0.0320776   3.840 0.000123 ***\n",
       "V2           0.0351637  0.0037087   9.481  < 2e-16 ***\n",
       "V3          -0.0132955  0.0052336  -2.540 0.011072 *  \n",
       "V4           0.0006190  0.0068994   0.090 0.928515    \n",
       "V5          -0.0011917  0.0009012  -1.322 0.186065    \n",
       "V6           0.0897010  0.0150876   5.945 2.76e-09 ***\n",
       "V7           0.9451797  0.2991475   3.160 0.001580 ** \n",
       "V8           0.0148690  0.0093348   1.593 0.111192    \n",
       "---\n",
       "Signif. codes:  0 '***' 0.001 '**' 0.01 '*' 0.05 '.' 0.1 ' ' 1\n",
       "\n",
       "(Dispersion parameter for binomial family taken to be 1)\n",
       "\n",
       "    Null deviance: 993.48  on 767  degrees of freedom\n",
       "Residual deviance: 723.45  on 759  degrees of freedom\n",
       "AIC: 741.45\n",
       "\n",
       "Number of Fisher Scoring iterations: 5\n"
      ]
     },
     "metadata": {},
     "output_type": "display_data"
    }
   ],
   "source": [
    "z=glm(y~.,data = as.data.frame(x),family=binomial(logit))\n",
    "summary(z)"
   ]
  },
  {
   "cell_type": "code",
   "execution_count": 4,
   "id": "9b64cc9b",
   "metadata": {},
   "outputs": [
    {
     "data": {
      "text/html": [
       "0.271809668590319"
      ],
      "text/latex": [
       "0.271809668590319"
      ],
      "text/markdown": [
       "0.271809668590319"
      ],
      "text/plain": [
       "[1] 0.2718097"
      ]
     },
     "metadata": {},
     "output_type": "display_data"
    }
   ],
   "source": [
    "# Coefficient of determination R^2\n",
    "1-z$deviance/z$null.deviance"
   ]
  },
  {
   "cell_type": "code",
   "execution_count": 5,
   "id": "c10e3939",
   "metadata": {},
   "outputs": [],
   "source": [
    "#Test H_0: all variables not important"
   ]
  },
  {
   "cell_type": "code",
   "execution_count": 6,
   "id": "a27f391a",
   "metadata": {},
   "outputs": [
    {
     "data": {
      "text/html": [
       "270.038532364645"
      ],
      "text/latex": [
       "270.038532364645"
      ],
      "text/markdown": [
       "270.038532364645"
      ],
      "text/plain": [
       "[1] 270.0385"
      ]
     },
     "metadata": {},
     "output_type": "display_data"
    }
   ],
   "source": [
    "#test stats\n",
    "z$null.deviance - z$deviance"
   ]
  },
  {
   "cell_type": "code",
   "execution_count": 7,
   "id": "46ab635b",
   "metadata": {},
   "outputs": [
    {
     "data": {
      "text/html": [
       "15.5073130558655"
      ],
      "text/latex": [
       "15.5073130558655"
      ],
      "text/markdown": [
       "15.5073130558655"
      ],
      "text/plain": [
       "[1] 15.50731"
      ]
     },
     "metadata": {},
     "output_type": "display_data"
    }
   ],
   "source": [
    "#critical set at 0.05 confidence level\n",
    "qchisq(1-0.05, df = 8)"
   ]
  },
  {
   "cell_type": "code",
   "execution_count": 8,
   "id": "3d014173",
   "metadata": {},
   "outputs": [],
   "source": [
    "# (15.5, infty)"
   ]
  },
  {
   "cell_type": "code",
   "execution_count": 9,
   "id": "bbc6d2e5",
   "metadata": {},
   "outputs": [],
   "source": [
    "#rejecting H0, so there are important variables"
   ]
  },
  {
   "cell_type": "code",
   "execution_count": 10,
   "id": "ff368f6f",
   "metadata": {},
   "outputs": [],
   "source": [
    "# beta1 estimator = 0.12\n",
    "# beta1 variance = 0.03\n",
    "# p-value of test H0: beta1=0 is small, therefore V1 is important\n",
    "\n",
    "# beta4 estimator = 0.0006\n",
    "# beta4 variance = 0.006\n",
    "# p-value of the test H0: beta4=0 is high, therefore V4 is not important\n",
    "\n",
    "# Either there is no correlation between V4 and Y or\n",
    "# the correlation exists but vriable is considered not important in the model because the information is held in other variables."
   ]
  },
  {
   "cell_type": "code",
   "execution_count": 11,
   "id": "54c76871",
   "metadata": {},
   "outputs": [
    {
     "data": {
      "text/html": [
       "<table>\n",
       "<thead><tr><th></th><th scope=col>V1</th><th scope=col>V2</th><th scope=col>V3</th><th scope=col>V4</th><th scope=col>V5</th><th scope=col>V6</th><th scope=col>V7</th><th scope=col>V8</th></tr></thead>\n",
       "<tbody>\n",
       "\t<tr><th scope=row>V1</th><td> 1.00000000</td><td>0.12945867 </td><td>0.14128198 </td><td>-0.08167177</td><td>-0.07353461</td><td>0.01768309 </td><td>-0.03352267</td><td> 0.54434123</td></tr>\n",
       "\t<tr><th scope=row>V2</th><td> 0.12945867</td><td>1.00000000 </td><td>0.15258959 </td><td> 0.05732789</td><td> 0.33135711</td><td>0.22107107 </td><td> 0.13733730</td><td> 0.26351432</td></tr>\n",
       "\t<tr><th scope=row>V3</th><td> 0.14128198</td><td>0.15258959 </td><td>1.00000000 </td><td> 0.20737054</td><td> 0.08893338</td><td>0.28180529 </td><td> 0.04126495</td><td> 0.23952795</td></tr>\n",
       "\t<tr><th scope=row>V4</th><td>-0.08167177</td><td>0.05732789 </td><td>0.20737054 </td><td> 1.00000000</td><td> 0.43678257</td><td>0.39257320 </td><td> 0.18392757</td><td>-0.11397026</td></tr>\n",
       "\t<tr><th scope=row>V5</th><td>-0.07353461</td><td>0.33135711 </td><td>0.08893338 </td><td> 0.43678257</td><td> 1.00000000</td><td>0.19785906 </td><td> 0.18507093</td><td>-0.04216295</td></tr>\n",
       "\t<tr><th scope=row>V6</th><td> 0.01768309</td><td>0.22107107 </td><td>0.28180529 </td><td> 0.39257320</td><td> 0.19785906</td><td>1.00000000 </td><td> 0.14064695</td><td> 0.03624187</td></tr>\n",
       "\t<tr><th scope=row>V7</th><td>-0.03352267</td><td>0.13733730 </td><td>0.04126495 </td><td> 0.18392757</td><td> 0.18507093</td><td>0.14064695 </td><td> 1.00000000</td><td> 0.03356131</td></tr>\n",
       "\t<tr><th scope=row>V8</th><td> 0.54434123</td><td>0.26351432 </td><td>0.23952795 </td><td>-0.11397026</td><td>-0.04216295</td><td>0.03624187 </td><td> 0.03356131</td><td> 1.00000000</td></tr>\n",
       "</tbody>\n",
       "</table>\n"
      ],
      "text/latex": [
       "\\begin{tabular}{r|llllllll}\n",
       "  & V1 & V2 & V3 & V4 & V5 & V6 & V7 & V8\\\\\n",
       "\\hline\n",
       "\tV1 &  1.00000000 & 0.12945867  & 0.14128198  & -0.08167177 & -0.07353461 & 0.01768309  & -0.03352267 &  0.54434123\\\\\n",
       "\tV2 &  0.12945867 & 1.00000000  & 0.15258959  &  0.05732789 &  0.33135711 & 0.22107107  &  0.13733730 &  0.26351432\\\\\n",
       "\tV3 &  0.14128198 & 0.15258959  & 1.00000000  &  0.20737054 &  0.08893338 & 0.28180529  &  0.04126495 &  0.23952795\\\\\n",
       "\tV4 & -0.08167177 & 0.05732789  & 0.20737054  &  1.00000000 &  0.43678257 & 0.39257320  &  0.18392757 & -0.11397026\\\\\n",
       "\tV5 & -0.07353461 & 0.33135711  & 0.08893338  &  0.43678257 &  1.00000000 & 0.19785906  &  0.18507093 & -0.04216295\\\\\n",
       "\tV6 &  0.01768309 & 0.22107107  & 0.28180529  &  0.39257320 &  0.19785906 & 1.00000000  &  0.14064695 &  0.03624187\\\\\n",
       "\tV7 & -0.03352267 & 0.13733730  & 0.04126495  &  0.18392757 &  0.18507093 & 0.14064695  &  1.00000000 &  0.03356131\\\\\n",
       "\tV8 &  0.54434123 & 0.26351432  & 0.23952795  & -0.11397026 & -0.04216295 & 0.03624187  &  0.03356131 &  1.00000000\\\\\n",
       "\\end{tabular}\n"
      ],
      "text/markdown": [
       "\n",
       "| <!--/--> | V1 | V2 | V3 | V4 | V5 | V6 | V7 | V8 |\n",
       "|---|---|---|---|---|---|---|---|---|\n",
       "| V1 |  1.00000000 | 0.12945867  | 0.14128198  | -0.08167177 | -0.07353461 | 0.01768309  | -0.03352267 |  0.54434123 |\n",
       "| V2 |  0.12945867 | 1.00000000  | 0.15258959  |  0.05732789 |  0.33135711 | 0.22107107  |  0.13733730 |  0.26351432 |\n",
       "| V3 |  0.14128198 | 0.15258959  | 1.00000000  |  0.20737054 |  0.08893338 | 0.28180529  |  0.04126495 |  0.23952795 |\n",
       "| V4 | -0.08167177 | 0.05732789  | 0.20737054  |  1.00000000 |  0.43678257 | 0.39257320  |  0.18392757 | -0.11397026 |\n",
       "| V5 | -0.07353461 | 0.33135711  | 0.08893338  |  0.43678257 |  1.00000000 | 0.19785906  |  0.18507093 | -0.04216295 |\n",
       "| V6 |  0.01768309 | 0.22107107  | 0.28180529  |  0.39257320 |  0.19785906 | 1.00000000  |  0.14064695 |  0.03624187 |\n",
       "| V7 | -0.03352267 | 0.13733730  | 0.04126495  |  0.18392757 |  0.18507093 | 0.14064695  |  1.00000000 |  0.03356131 |\n",
       "| V8 |  0.54434123 | 0.26351432  | 0.23952795  | -0.11397026 | -0.04216295 | 0.03624187  |  0.03356131 |  1.00000000 |\n",
       "\n"
      ],
      "text/plain": [
       "   V1          V2         V3         V4          V5          V6        \n",
       "V1  1.00000000 0.12945867 0.14128198 -0.08167177 -0.07353461 0.01768309\n",
       "V2  0.12945867 1.00000000 0.15258959  0.05732789  0.33135711 0.22107107\n",
       "V3  0.14128198 0.15258959 1.00000000  0.20737054  0.08893338 0.28180529\n",
       "V4 -0.08167177 0.05732789 0.20737054  1.00000000  0.43678257 0.39257320\n",
       "V5 -0.07353461 0.33135711 0.08893338  0.43678257  1.00000000 0.19785906\n",
       "V6  0.01768309 0.22107107 0.28180529  0.39257320  0.19785906 1.00000000\n",
       "V7 -0.03352267 0.13733730 0.04126495  0.18392757  0.18507093 0.14064695\n",
       "V8  0.54434123 0.26351432 0.23952795 -0.11397026 -0.04216295 0.03624187\n",
       "   V7          V8         \n",
       "V1 -0.03352267  0.54434123\n",
       "V2  0.13733730  0.26351432\n",
       "V3  0.04126495  0.23952795\n",
       "V4  0.18392757 -0.11397026\n",
       "V5  0.18507093 -0.04216295\n",
       "V6  0.14064695  0.03624187\n",
       "V7  1.00000000  0.03356131\n",
       "V8  0.03356131  1.00000000"
      ]
     },
     "metadata": {},
     "output_type": "display_data"
    }
   ],
   "source": [
    "cor(x)"
   ]
  },
  {
   "cell_type": "code",
   "execution_count": null,
   "id": "8c5c1662",
   "metadata": {},
   "outputs": [],
   "source": [
    "# V4 does not correlate well with any other variable, so probably there is no correlation with target var"
   ]
  }
 ],
 "metadata": {
  "kernelspec": {
   "display_name": "R",
   "language": "R",
   "name": "ir"
  },
  "language_info": {
   "codemirror_mode": "r",
   "file_extension": ".r",
   "mimetype": "text/x-r-source",
   "name": "R",
   "pygments_lexer": "r",
   "version": "3.6.1"
  }
 },
 "nbformat": 4,
 "nbformat_minor": 5
}
