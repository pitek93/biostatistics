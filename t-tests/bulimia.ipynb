{
 "cells": [
  {
   "cell_type": "code",
   "execution_count": 1,
   "id": "4998ca62",
   "metadata": {},
   "outputs": [],
   "source": [
    "a=file.choose() # bulimia.txt \n",
    "b=as.numeric(read.table(a,header=F))"
   ]
  },
  {
   "cell_type": "code",
   "execution_count": 2,
   "id": "8c8b7458",
   "metadata": {},
   "outputs": [],
   "source": [
    "library(repr)\n",
    "options(repr.plot.width=4, repr.plot.height=3)"
   ]
  },
  {
   "cell_type": "code",
   "execution_count": 3,
   "id": "0f1aacab",
   "metadata": {},
   "outputs": [],
   "source": [
    "sick=b[1:23] #calories consumed\n",
    "healthy=b[24:38] #calories consumed"
   ]
  },
  {
   "cell_type": "code",
   "execution_count": 4,
   "id": "944eef8f",
   "metadata": {},
   "outputs": [
    {
     "data": {
      "image/png": "[encoded data removed]",
      "text/plain": [
       "Plot with title \"Histogram of sick\""
      ]
     },
     "metadata": {},
     "output_type": "display_data"
    },
    {
     "data": {
      "image/png": "[encoded data removed]",
      "text/plain": [
       "plot without title"
      ]
     },
     "metadata": {},
     "output_type": "display_data"
    }
   ],
   "source": [
    "hist(sick)\n",
    "boxplot(sick)"
   ]
  },
  {
   "cell_type": "code",
   "execution_count": 5,
   "id": "1cd27be1",
   "metadata": {},
   "outputs": [
    {
     "data": {
      "text/html": [
       "22.0782608695652"
      ],
      "text/latex": [
       "22.0782608695652"
      ],
      "text/markdown": [
       "22.0782608695652"
      ],
      "text/plain": [
       "[1] 22.07826"
      ]
     },
     "metadata": {},
     "output_type": "display_data"
    },
    {
     "data": {
      "text/html": [
       "21.6"
      ],
      "text/latex": [
       "21.6"
      ],
      "text/markdown": [
       "21.6"
      ],
      "text/plain": [
       "[1] 21.6"
      ]
     },
     "metadata": {},
     "output_type": "display_data"
    },
    {
     "data": {
      "text/html": [
       "4.57274102418979"
      ],
      "text/latex": [
       "4.57274102418979"
      ],
      "text/markdown": [
       "4.57274102418979"
      ],
      "text/plain": [
       "[1] 4.572741"
      ]
     },
     "metadata": {},
     "output_type": "display_data"
    },
    {
     "data": {
      "text/html": [
       "6.9"
      ],
      "text/latex": [
       "6.9"
      ],
      "text/markdown": [
       "6.9"
      ],
      "text/plain": [
       "[1] 6.9"
      ]
     },
     "metadata": {},
     "output_type": "display_data"
    },
    {
     "data": {
      "text/html": [
       "0.614991372040819"
      ],
      "text/latex": [
       "0.614991372040819"
      ],
      "text/markdown": [
       "0.614991372040819"
      ],
      "text/plain": [
       "[1] 0.6149914"
      ]
     },
     "metadata": {},
     "output_type": "display_data"
    }
   ],
   "source": [
    "mean(sick)\n",
    "median(sick)\n",
    "sd(sick)\n",
    "IQR(sick)\n",
    "library(moments)\n",
    "skewness(b)"
   ]
  },
  {
   "cell_type": "code",
   "execution_count": 6,
   "id": "e66a7484",
   "metadata": {},
   "outputs": [
    {
     "data": {
      "image/png": "[encoded data removed]",
      "text/plain": [
       "Plot with title \"Histogram of healthy\""
      ]
     },
     "metadata": {},
     "output_type": "display_data"
    },
    {
     "data": {
      "image/png": "[encoded data removed]",
      "text/plain": [
       "plot without title"
      ]
     },
     "metadata": {},
     "output_type": "display_data"
    }
   ],
   "source": [
    "hist(healthy)\n",
    "boxplot(healthy)"
   ]
  },
  {
   "cell_type": "code",
   "execution_count": 7,
   "id": "1c4768b5",
   "metadata": {},
   "outputs": [
    {
     "data": {
      "text/html": [
       "29.7"
      ],
      "text/latex": [
       "29.7"
      ],
      "text/markdown": [
       "29.7"
      ],
      "text/plain": [
       "[1] 29.7"
      ]
     },
     "metadata": {},
     "output_type": "display_data"
    },
    {
     "data": {
      "text/html": [
       "30.6"
      ],
      "text/latex": [
       "30.6"
      ],
      "text/markdown": [
       "30.6"
      ],
      "text/plain": [
       "[1] 30.6"
      ]
     },
     "metadata": {},
     "output_type": "display_data"
    },
    {
     "data": {
      "text/html": [
       "6.49065261961934"
      ],
      "text/latex": [
       "6.49065261961934"
      ],
      "text/markdown": [
       "6.49065261961934"
      ],
      "text/plain": [
       "[1] 6.490653"
      ]
     },
     "metadata": {},
     "output_type": "display_data"
    },
    {
     "data": {
      "text/html": [
       "11"
      ],
      "text/latex": [
       "11"
      ],
      "text/markdown": [
       "11"
      ],
      "text/plain": [
       "[1] 11"
      ]
     },
     "metadata": {},
     "output_type": "display_data"
    },
    {
     "data": {
      "text/html": [
       "0.206994958872795"
      ],
      "text/latex": [
       "0.206994958872795"
      ],
      "text/markdown": [
       "0.206994958872795"
      ],
      "text/plain": [
       "[1] 0.206995"
      ]
     },
     "metadata": {},
     "output_type": "display_data"
    }
   ],
   "source": [
    "mean(healthy)\n",
    "median(healthy)\n",
    "sd(healthy)\n",
    "IQR(healthy)\n",
    "skewness(healthy)"
   ]
  },
  {
   "cell_type": "code",
   "execution_count": 8,
   "id": "4d470947",
   "metadata": {},
   "outputs": [
    {
     "data": {
      "image/png": "[encoded data removed]",
      "text/plain": [
       "plot without title"
      ]
     },
     "metadata": {},
     "output_type": "display_data"
    }
   ],
   "source": [
    "boxplot(healthy,sick)"
   ]
  },
  {
   "cell_type": "code",
   "execution_count": 9,
   "id": "1808ca9a",
   "metadata": {},
   "outputs": [],
   "source": [
    "# on averagre group 'healthy' consume more calories (higher average and median) than sick group\n",
    "# higher diversity in healthy group - higher sd and IQR\n",
    "# both groups slightly right skewed"
   ]
  },
  {
   "cell_type": "code",
   "execution_count": null,
   "id": "6cdb04da",
   "metadata": {},
   "outputs": [],
   "source": []
  },
  {
   "cell_type": "code",
   "execution_count": null,
   "id": "32ad71a5",
   "metadata": {},
   "outputs": [],
   "source": []
  },
  {
   "cell_type": "code",
   "execution_count": 10,
   "id": "fe688249",
   "metadata": {},
   "outputs": [],
   "source": [
    "# average comparison using group averages:\n",
    "\n",
    "a=file.choose()\n",
    "b=as.numeric(read.table(a,header=F))\n",
    "sick=b[1:23]\n",
    "healthy=b[24:38]"
   ]
  },
  {
   "cell_type": "code",
   "execution_count": 11,
   "id": "5d1a0256",
   "metadata": {},
   "outputs": [
    {
     "data": {
      "text/plain": [
       "\n",
       "\tShapiro-Wilk normality test\n",
       "\n",
       "data:  sick\n",
       "W = 0.94105, p-value = 0.1893\n"
      ]
     },
     "metadata": {},
     "output_type": "display_data"
    },
    {
     "data": {
      "image/png": "[encoded data removed]",
      "text/plain": [
       "Plot with title \"Normal Q-Q Plot\""
      ]
     },
     "metadata": {},
     "output_type": "display_data"
    }
   ],
   "source": [
    "# normality\n",
    "qqnorm(sick)\n",
    "shapiro.test(sick)"
   ]
  },
  {
   "cell_type": "code",
   "execution_count": 12,
   "id": "5d36989b",
   "metadata": {},
   "outputs": [
    {
     "data": {
      "text/plain": [
       "\n",
       "\tShapiro-Wilk normality test\n",
       "\n",
       "data:  healthy\n",
       "W = 0.92528, p-value = 0.2318\n"
      ]
     },
     "metadata": {},
     "output_type": "display_data"
    },
    {
     "data": {
      "image/png": "[encoded data removed]",
      "text/plain": [
       "Plot with title \"Normal Q-Q Plot\""
      ]
     },
     "metadata": {},
     "output_type": "display_data"
    }
   ],
   "source": [
    "qqnorm(healthy)\n",
    "shapiro.test(healthy)"
   ]
  },
  {
   "cell_type": "code",
   "execution_count": 13,
   "id": "2c5edd64",
   "metadata": {},
   "outputs": [
    {
     "data": {
      "text/html": [
       "3.95290976768629"
      ],
      "text/latex": [
       "3.95290976768629"
      ],
      "text/markdown": [
       "3.95290976768629"
      ],
      "text/plain": [
       "[1] 3.95291"
      ]
     },
     "metadata": {},
     "output_type": "display_data"
    }
   ],
   "source": [
    "# t test for 2 averages and independent data\n",
    "(mean(healthy)-mean(sick))/sqrt(var(healthy)/15+var(sick)/23)"
   ]
  },
  {
   "cell_type": "code",
   "execution_count": 14,
   "id": "f3de13b5",
   "metadata": {},
   "outputs": [
    {
     "data": {
      "text/html": [
       "1.75050981288826"
      ],
      "text/latex": [
       "1.75050981288826"
      ],
      "text/markdown": [
       "1.75050981288826"
      ],
      "text/plain": [
       "[1] 1.75051"
      ]
     },
     "metadata": {},
     "output_type": "display_data"
    }
   ],
   "source": [
    "# critical set\n",
    "a=0.05\n",
    "(var(healthy)/15*qt(1-a,df=14) +var(sick)/23*qt(1-a,df=22))/(var(healthy)/15+var(sick)/23)"
   ]
  },
  {
   "cell_type": "code",
   "execution_count": 15,
   "id": "dd717507",
   "metadata": {},
   "outputs": [],
   "source": [
    "#(1.75, + infty)"
   ]
  },
  {
   "cell_type": "code",
   "execution_count": 16,
   "id": "7e51a8d6",
   "metadata": {},
   "outputs": [],
   "source": [
    "#Rejecting H0 -> 'healthy' group consume more calories"
   ]
  }
 ],
 "metadata": {
  "kernelspec": {
   "display_name": "R",
   "language": "R",
   "name": "ir"
  },
  "language_info": {
   "codemirror_mode": "r",
   "file_extension": ".r",
   "mimetype": "text/x-r-source",
   "name": "R",
   "pygments_lexer": "r",
   "version": "3.6.1"
  }
 },
 "nbformat": 4,
 "nbformat_minor": 5
}
