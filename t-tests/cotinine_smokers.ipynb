{
 "cells": [
  {
   "cell_type": "code",
   "execution_count": 1,
   "id": "58fed9cd",
   "metadata": {},
   "outputs": [],
   "source": [
    "a=file.choose() # cotinine.txt\n",
    "b=as.numeric(read.table(a,header=F))"
   ]
  },
  {
   "cell_type": "code",
   "execution_count": 2,
   "id": "8beb72c2",
   "metadata": {},
   "outputs": [],
   "source": [
    "library(repr)\n",
    "options(repr.plot.width=4, repr.plot.height=3)"
   ]
  },
  {
   "cell_type": "code",
   "execution_count": 3,
   "id": "fda00616",
   "metadata": {},
   "outputs": [],
   "source": [
    "non_smoking=b[1:7]\n",
    "smoking=b[-(1:7)]"
   ]
  },
  {
   "cell_type": "code",
   "execution_count": 4,
   "id": "39894f07",
   "metadata": {},
   "outputs": [
    {
     "data": {
      "text/plain": [
       "\n",
       "\tShapiro-Wilk normality test\n",
       "\n",
       "data:  smoking\n",
       "W = 0.97103, p-value = 0.906\n"
      ]
     },
     "metadata": {},
     "output_type": "display_data"
    },
    {
     "data": {
      "image/png": "[encoded data removed]",
      "text/plain": [
       "Plot with title \"Normal Q-Q Plot\""
      ]
     },
     "metadata": {},
     "output_type": "display_data"
    }
   ],
   "source": [
    "#normality\n",
    "qqnorm(smoking)\n",
    "shapiro.test(smoking)"
   ]
  },
  {
   "cell_type": "code",
   "execution_count": 5,
   "id": "75a875d7",
   "metadata": {},
   "outputs": [
    {
     "data": {
      "text/plain": [
       "\n",
       "\tShapiro-Wilk normality test\n",
       "\n",
       "data:  non_smoking\n",
       "W = 0.68246, p-value = 0.002378\n"
      ]
     },
     "metadata": {},
     "output_type": "display_data"
    },
    {
     "data": {
      "image/png": "[encoded data removed]",
      "text/plain": [
       "Plot with title \"Normal Q-Q Plot\""
      ]
     },
     "metadata": {},
     "output_type": "display_data"
    }
   ],
   "source": [
    "qqnorm(non_smoking)\n",
    "shapiro.test(non_smoking)"
   ]
  },
  {
   "cell_type": "code",
   "execution_count": 6,
   "id": "6e23db8f",
   "metadata": {},
   "outputs": [],
   "source": [
    "#'smoking' normal, 'non_smoking' slighly off\n",
    "# small sample size, using t test anyway:"
   ]
  },
  {
   "cell_type": "code",
   "execution_count": 7,
   "id": "de008fb0",
   "metadata": {},
   "outputs": [
    {
     "data": {
      "text/html": [
       "-3.33279771499115"
      ],
      "text/latex": [
       "-3.33279771499115"
      ],
      "text/markdown": [
       "-3.33279771499115"
      ],
      "text/plain": [
       "[1] -3.332798"
      ]
     },
     "metadata": {},
     "output_type": "display_data"
    }
   ],
   "source": [
    "#t test for 2 averages and independent data\n",
    "(mean(non_smoking)-mean(smoking))/sqrt(var(non_smoking)/7+var(smoking)/8)"
   ]
  },
  {
   "cell_type": "code",
   "execution_count": 8,
   "id": "c5ba62f6",
   "metadata": {},
   "outputs": [
    {
     "data": {
      "text/html": [
       "1.90934295851044"
      ],
      "text/latex": [
       "1.90934295851044"
      ],
      "text/markdown": [
       "1.90934295851044"
      ],
      "text/plain": [
       "[1] 1.909343"
      ]
     },
     "metadata": {},
     "output_type": "display_data"
    }
   ],
   "source": [
    "# critical range:\n",
    "a=0.05\n",
    "(var(non_smoking)/7*qt(1-a,df=6) +var(smoking)/8*qt(1-a,df=7))/(var(non_smoking)/7+var(smoking)/8)"
   ]
  },
  {
   "cell_type": "code",
   "execution_count": 9,
   "id": "83f6723d",
   "metadata": {},
   "outputs": [],
   "source": [
    "# (-infty, -1.9)"
   ]
  },
  {
   "cell_type": "code",
   "execution_count": 10,
   "id": "5c26fe76",
   "metadata": {},
   "outputs": [],
   "source": [
    "# rejecting H0 -> \n",
    "# cotinine levels higher in smokres children"
   ]
  },
  {
   "cell_type": "code",
   "execution_count": 11,
   "id": "f30441f4",
   "metadata": {},
   "outputs": [],
   "source": [
    "#solution using rang test\n",
    "\n",
    "a=file.choose() #cotinine.txt\n",
    "b=as.numeric(read.table(a,header=F))\n",
    "\n",
    "non_smoking=b[1:7]\n",
    "smoking=b[-(1:7)]"
   ]
  },
  {
   "cell_type": "code",
   "execution_count": 12,
   "id": "c09a7f05",
   "metadata": {},
   "outputs": [
    {
     "data": {
      "text/plain": [
       "\n",
       "\tWilcoxon rank sum test\n",
       "\n",
       "data:  non_smoking and smoking\n",
       "W = 5, p-value = 0.002953\n",
       "alternative hypothesis: true location shift is less than 0\n"
      ]
     },
     "metadata": {},
     "output_type": "display_data"
    }
   ],
   "source": [
    "# Wilcoxona test for independent data\n",
    "wilcox.test(non_smoking,smoking,paired=F,alternative=\"l\")\n",
    "#p val=0.002, rejecting H0, \n",
    "# cotininge higher in children of parents group'smoking' "
   ]
  }
 ],
 "metadata": {
  "kernelspec": {
   "display_name": "R",
   "language": "R",
   "name": "ir"
  },
  "language_info": {
   "codemirror_mode": "r",
   "file_extension": ".r",
   "mimetype": "text/x-r-source",
   "name": "R",
   "pygments_lexer": "r",
   "version": "3.6.1"
  }
 },
 "nbformat": 4,
 "nbformat_minor": 5
}
