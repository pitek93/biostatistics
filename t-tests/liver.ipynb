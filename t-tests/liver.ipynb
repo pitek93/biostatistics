{
 "cells": [
  {
   "cell_type": "code",
   "execution_count": 1,
   "id": "469542f4",
   "metadata": {},
   "outputs": [],
   "source": [
    "# H0 liver transplant caused increase in pressure\n",
    "# H1 liver transplant didn't cause increase in pressure"
   ]
  },
  {
   "cell_type": "code",
   "execution_count": 2,
   "id": "ee0e7104",
   "metadata": {},
   "outputs": [],
   "source": [
    "a=file.choose() # liver.txt\n",
    "b=read.table(a,header=F)"
   ]
  },
  {
   "cell_type": "code",
   "execution_count": 3,
   "id": "12f1dc06",
   "metadata": {},
   "outputs": [],
   "source": [
    "library(repr)\n",
    "options(repr.plot.width=4, repr.plot.height=3)"
   ]
  },
  {
   "cell_type": "code",
   "execution_count": 4,
   "id": "6e3ab231",
   "metadata": {},
   "outputs": [],
   "source": [
    "# t test for 2 averages and dependent data"
   ]
  },
  {
   "cell_type": "code",
   "execution_count": 5,
   "id": "b1b23a5d",
   "metadata": {},
   "outputs": [
    {
     "data": {
      "text/plain": [
       "\n",
       "\tShapiro-Wilk normality test\n",
       "\n",
       "data:  b[, 1] - b[, 2]\n",
       "W = 0.98149, p-value = 0.945\n"
      ]
     },
     "metadata": {},
     "output_type": "display_data"
    },
    {
     "data": {
      "image/png": "[encoded data removed]",
      "text/plain": [
       "Plot with title \"Normal Q-Q Plot\""
      ]
     },
     "metadata": {},
     "output_type": "display_data"
    }
   ],
   "source": [
    "# normality of difference of features\n",
    "qqnorm(b[,1]-b[,2])\n",
    "shapiro.test(b[,1]-b[,2])"
   ]
  },
  {
   "cell_type": "code",
   "execution_count": 6,
   "id": "cb50c163",
   "metadata": {},
   "outputs": [],
   "source": [
    "# normal distribution"
   ]
  },
  {
   "cell_type": "code",
   "execution_count": 7,
   "id": "9566f640",
   "metadata": {},
   "outputs": [
    {
     "data": {
      "text/plain": [
       "\n",
       "\tOne Sample t-test\n",
       "\n",
       "data:  b[, 1] - b[, 2]\n",
       "t = -0.64316, df = 20, p-value = 0.5274\n",
       "alternative hypothesis: true mean is not equal to 0\n",
       "95 percent confidence interval:\n",
       " -8.082516  4.272992\n",
       "sample estimates:\n",
       "mean of x \n",
       "-1.904762 \n"
      ]
     },
     "metadata": {},
     "output_type": "display_data"
    }
   ],
   "source": [
    "# t test\n",
    "t.test(b[,1]-b[,2],mu=0,alternative=\"t\")"
   ]
  },
  {
   "cell_type": "code",
   "execution_count": 8,
   "id": "6257187c",
   "metadata": {},
   "outputs": [],
   "source": [
    "#p-val=0.52, keeping H0, liver transplant does not cause increase in pressure"
   ]
  }
 ],
 "metadata": {
  "kernelspec": {
   "display_name": "R",
   "language": "R",
   "name": "ir"
  },
  "language_info": {
   "codemirror_mode": "r",
   "file_extension": ".r",
   "mimetype": "text/x-r-source",
   "name": "R",
   "pygments_lexer": "r",
   "version": "3.6.1"
  }
 },
 "nbformat": 4,
 "nbformat_minor": 5
}
