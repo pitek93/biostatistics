{
 "cells": [
  {
   "cell_type": "code",
   "execution_count": 1,
   "id": "c711b4f8",
   "metadata": {},
   "outputs": [],
   "source": [
    "#H0: medicine doesn't cause increase in pressure\n",
    "#H1: medicine causes increase in pressure"
   ]
  },
  {
   "cell_type": "code",
   "execution_count": 2,
   "id": "55b42377",
   "metadata": {},
   "outputs": [],
   "source": [
    "a=file.choose() # pressure.csv\n",
    "b=read.csv(a,header=F,sep=\";\")"
   ]
  },
  {
   "cell_type": "code",
   "execution_count": 3,
   "id": "ff5e0a8c",
   "metadata": {},
   "outputs": [],
   "source": [
    "library(repr)\n",
    "options(repr.plot.width=4, repr.plot.height=3)"
   ]
  },
  {
   "cell_type": "code",
   "execution_count": 4,
   "id": "c0be921b",
   "metadata": {},
   "outputs": [
    {
     "data": {
      "text/plain": [
       "\n",
       "\tShapiro-Wilk normality test\n",
       "\n",
       "data:  b[, 1] - b[, 2]\n",
       "W = 0.96787, p-value = 0.8873\n"
      ]
     },
     "metadata": {},
     "output_type": "display_data"
    },
    {
     "data": {
      "image/png": "[encoded data removed]",
      "text/plain": [
       "Plot with title \"Normal Q-Q Plot\""
      ]
     },
     "metadata": {},
     "output_type": "display_data"
    }
   ],
   "source": [
    "#normality of difference of the features:\n",
    "qqnorm(b[,1]-b[,2])\n",
    "shapiro.test(b[,1]-b[,2])"
   ]
  },
  {
   "cell_type": "code",
   "execution_count": 5,
   "id": "6d6abeeb",
   "metadata": {},
   "outputs": [
    {
     "data": {
      "text/plain": [
       "\n",
       "\tOne Sample t-test\n",
       "\n",
       "data:  b[, 1] - b[, 2]\n",
       "t = -2.8976, df = 11, p-value = 0.007253\n",
       "alternative hypothesis: true mean is less than 0\n",
       "95 percent confidence interval:\n",
       "       -Inf -0.9822507\n",
       "sample estimates:\n",
       "mean of x \n",
       "-2.583333 \n"
      ]
     },
     "metadata": {},
     "output_type": "display_data"
    }
   ],
   "source": [
    "# t test for 2 averages and independent data\n",
    "t.test(b[,1]-b[,2], mu=0, alternative=\"l\")"
   ]
  },
  {
   "cell_type": "code",
   "execution_count": 6,
   "id": "5900a1b9",
   "metadata": {},
   "outputs": [],
   "source": [
    "# p-val=0.007, \n",
    "# rejecting H0\n",
    "# medicine increases pressure"
   ]
  },
  {
   "cell_type": "code",
   "execution_count": null,
   "id": "1c1742a4",
   "metadata": {},
   "outputs": [],
   "source": []
  },
  {
   "cell_type": "code",
   "execution_count": null,
   "id": "ccc5dc1f",
   "metadata": {},
   "outputs": [],
   "source": []
  },
  {
   "cell_type": "code",
   "execution_count": 7,
   "id": "a2c1efaf",
   "metadata": {},
   "outputs": [],
   "source": [
    "# solution using rang tests\n",
    "a=file.choose() #pressure.txt\n",
    "b=read.csv(a,header=F,sep=\";\")"
   ]
  },
  {
   "cell_type": "code",
   "execution_count": 8,
   "id": "f6c4096a",
   "metadata": {},
   "outputs": [
    {
     "data": {
      "text/plain": [
       "\n",
       "\tWilcoxon signed rank test with continuity correction\n",
       "\n",
       "data:  b[, 1] and b[, 2]\n",
       "V = 5, p-value = 0.01233\n",
       "alternative hypothesis: true location shift is less than 0\n"
      ]
     },
     "metadata": {},
     "output_type": "display_data"
    }
   ],
   "source": [
    "# wilcox test for dependent data\n",
    "wilcox.test(b[,1],b[,2],paired=T,exact=F,alternative=\"l\")"
   ]
  },
  {
   "cell_type": "code",
   "execution_count": 9,
   "id": "a2e501cb",
   "metadata": {},
   "outputs": [],
   "source": [
    "# p val =0.01, rejecting H0, medicine increases cisnienie"
   ]
  }
 ],
 "metadata": {
  "kernelspec": {
   "display_name": "R",
   "language": "R",
   "name": "ir"
  },
  "language_info": {
   "codemirror_mode": "r",
   "file_extension": ".r",
   "mimetype": "text/x-r-source",
   "name": "R",
   "pygments_lexer": "r",
   "version": "3.6.1"
  }
 },
 "nbformat": 4,
 "nbformat_minor": 5
}
