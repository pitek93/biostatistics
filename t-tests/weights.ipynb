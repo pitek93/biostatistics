{
 "cells": [
  {
   "cell_type": "code",
   "execution_count": 1,
   "id": "096f7377",
   "metadata": {},
   "outputs": [],
   "source": [
    "a=file.choose() # weights.csv\n",
    "b=as.numeric(read.csv(a, header=F, sep=\";\"))\n",
    "library(repr)\n",
    "options(repr.plot.width=4, repr.plot.height=3)"
   ]
  },
  {
   "cell_type": "code",
   "execution_count": 2,
   "id": "9ec97311",
   "metadata": {},
   "outputs": [
    {
     "data": {
      "image/png": "[encoded data removed]",
      "text/plain": [
       "Plot with title \"Histogram of b\""
      ]
     },
     "metadata": {},
     "output_type": "display_data"
    },
    {
     "data": {
      "image/png": "[encoded data removed]",
      "text/plain": [
       "plot without title"
      ]
     },
     "metadata": {},
     "output_type": "display_data"
    }
   ],
   "source": [
    "hist(b,nclass=10)\n",
    "boxplot(b)"
   ]
  },
  {
   "cell_type": "code",
   "execution_count": 3,
   "id": "cd05ce9b",
   "metadata": {},
   "outputs": [
    {
     "data": {
      "text/html": [
       "36.719298245614"
      ],
      "text/latex": [
       "36.719298245614"
      ],
      "text/markdown": [
       "36.719298245614"
      ],
      "text/plain": [
       "[1] 36.7193"
      ]
     },
     "metadata": {},
     "output_type": "display_data"
    },
    {
     "data": {
      "text/html": [
       "32"
      ],
      "text/latex": [
       "32"
      ],
      "text/markdown": [
       "32"
      ],
      "text/plain": [
       "[1] 32"
      ]
     },
     "metadata": {},
     "output_type": "display_data"
    }
   ],
   "source": [
    "mean(b)\n",
    "median(b)"
   ]
  },
  {
   "cell_type": "code",
   "execution_count": 4,
   "id": "e58ea472",
   "metadata": {},
   "outputs": [
    {
     "data": {
      "text/html": [
       "15.8652297110524"
      ],
      "text/latex": [
       "15.8652297110524"
      ],
      "text/markdown": [
       "15.8652297110524"
      ],
      "text/plain": [
       "[1] 15.86523"
      ]
     },
     "metadata": {},
     "output_type": "display_data"
    },
    {
     "data": {
      "text/html": [
       "21"
      ],
      "text/latex": [
       "21"
      ],
      "text/markdown": [
       "21"
      ],
      "text/plain": [
       "[1] 21"
      ]
     },
     "metadata": {},
     "output_type": "display_data"
    }
   ],
   "source": [
    "sd(b)\n",
    "IQR(b)"
   ]
  },
  {
   "cell_type": "code",
   "execution_count": 5,
   "id": "47b28443",
   "metadata": {},
   "outputs": [
    {
     "data": {
      "text/html": [
       "0.741083339267875"
      ],
      "text/latex": [
       "0.741083339267875"
      ],
      "text/markdown": [
       "0.741083339267875"
      ],
      "text/plain": [
       "[1] 0.7410833"
      ]
     },
     "metadata": {},
     "output_type": "display_data"
    }
   ],
   "source": [
    "library(moments)\n",
    "skewness(b)"
   ]
  },
  {
   "cell_type": "code",
   "execution_count": null,
   "id": "62ff09fd",
   "metadata": {},
   "outputs": [],
   "source": []
  },
  {
   "cell_type": "code",
   "execution_count": null,
   "id": "d4f441bb",
   "metadata": {},
   "outputs": [],
   "source": []
  },
  {
   "cell_type": "code",
   "execution_count": 6,
   "id": "f5c95493",
   "metadata": {},
   "outputs": [],
   "source": [
    "#H0: average higher than 35\n",
    "#H1: average equal 35"
   ]
  },
  {
   "cell_type": "code",
   "execution_count": 7,
   "id": "df6e8156",
   "metadata": {},
   "outputs": [
    {
     "data": {
      "text/plain": [
       "\n",
       "\tShapiro-Wilk normality test\n",
       "\n",
       "data:  b\n",
       "W = 0.94084, p-value = 0.007715\n"
      ]
     },
     "metadata": {},
     "output_type": "display_data"
    },
    {
     "data": {
      "image/png": "[encoded data removed]",
      "text/plain": [
       "Plot with title \"Normal Q-Q Plot\""
      ]
     },
     "metadata": {},
     "output_type": "display_data"
    }
   ],
   "source": [
    "a=file.choose() #weights.txt\n",
    "b=as.numeric(read.csv(a,header=F,sep=\";\"))\n",
    "library(repr)\n",
    "options(repr.plot.width=4, repr.plot.height=3)\n",
    "\n",
    "#normality test: quantile plot & Shapiro-Wilk test\n",
    "qqnorm(b)\n",
    "shapiro.test(b)"
   ]
  },
  {
   "cell_type": "code",
   "execution_count": 8,
   "id": "e6ebd4de",
   "metadata": {},
   "outputs": [],
   "source": [
    "# p-val= 0.007, fairly close to normal distribution"
   ]
  },
  {
   "cell_type": "code",
   "execution_count": 9,
   "id": "67969a40",
   "metadata": {},
   "outputs": [
    {
     "data": {
      "text/plain": [
       "\n",
       "\tOne Sample t-test\n",
       "\n",
       "data:  b\n",
       "t = 0.81817, df = 56, p-value = 0.2084\n",
       "alternative hypothesis: true mean is greater than 35\n",
       "95 percent confidence interval:\n",
       " 33.20466      Inf\n",
       "sample estimates:\n",
       "mean of x \n",
       "  36.7193 \n"
      ]
     },
     "metadata": {},
     "output_type": "display_data"
    }
   ],
   "source": [
    "# t test for 1 average\n",
    "t.test(b, mu=35, alternative=\"g\")"
   ]
  },
  {
   "cell_type": "code",
   "execution_count": 10,
   "id": "da6d4ff3",
   "metadata": {},
   "outputs": [],
   "source": [
    "# p-val=0.2, high. \n",
    "# keeping H0."
   ]
  }
 ],
 "metadata": {
  "kernelspec": {
   "display_name": "R",
   "language": "R",
   "name": "ir"
  },
  "language_info": {
   "codemirror_mode": "r",
   "file_extension": ".r",
   "mimetype": "text/x-r-source",
   "name": "R",
   "pygments_lexer": "r",
   "version": "3.6.1"
  }
 },
 "nbformat": 4,
 "nbformat_minor": 5
}
